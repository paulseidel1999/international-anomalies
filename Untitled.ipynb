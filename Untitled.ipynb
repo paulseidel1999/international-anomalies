{
 "cells": [
  {
   "cell_type": "code",
   "execution_count": 20,
   "id": "35c9e769-ec4a-4744-8045-70e902641f13",
   "metadata": {},
   "outputs": [
    {
     "name": "stderr",
     "output_type": "stream",
     "text": [
      "/tmp/ipykernel_3615719/2634035369.py:6: DeprecationWarning: `LazyFrame.fetch` is deprecated. `LazyFrame.fetch` is deprecated; use `LazyFrame.collect` instead, in conjunction with a call to `head`.\n",
      "  df = pl.scan_parquet(file_path).fetch(10)\n"
     ]
    },
    {
     "data": {
      "text/html": [
       "<div><style>\n",
       ".dataframe > thead > tr,\n",
       ".dataframe > tbody > tr {\n",
       "  text-align: right;\n",
       "  white-space: pre-wrap;\n",
       "}\n",
       "</style>\n",
       "<small>shape: (10, 5)</small><table border=\"1\" class=\"dataframe\"><thead><tr><th>DSCode</th><th>Date</th><th>RI</th><th>Currency</th><th>MV</th></tr><tr><td>str</td><td>date</td><td>f64</td><td>str</td><td>f64</td></tr></thead><tbody><tr><td>&quot;54453W&quot;</td><td>2021-02-16</td><td>65.72</td><td>&quot;USD&quot;</td><td>7.91</td></tr><tr><td>&quot;15250U&quot;</td><td>2021-02-16</td><td>37.59</td><td>&quot;USD&quot;</td><td>25.39</td></tr><tr><td>&quot;54802M&quot;</td><td>2021-02-16</td><td>0.68</td><td>&quot;USD&quot;</td><td>1.09</td></tr><tr><td>&quot;14736U&quot;</td><td>2021-02-16</td><td>0.11</td><td>&quot;USD&quot;</td><td>0.01</td></tr><tr><td>&quot;329671&quot;</td><td>2021-02-16</td><td>1309.39</td><td>&quot;USD&quot;</td><td>9534.63</td></tr><tr><td>&quot;514506&quot;</td><td>2021-02-16</td><td>0.46</td><td>&quot;USD&quot;</td><td>112.55</td></tr><tr><td>&quot;512977&quot;</td><td>2021-02-16</td><td>6.07</td><td>&quot;USD&quot;</td><td>20.64</td></tr><tr><td>&quot;410578&quot;</td><td>2021-02-16</td><td>0.14</td><td>&quot;USD&quot;</td><td>0.07</td></tr><tr><td>&quot;883767&quot;</td><td>2021-02-16</td><td>1.79</td><td>&quot;USD&quot;</td><td>8.74</td></tr><tr><td>&quot;41206R&quot;</td><td>2021-02-16</td><td>0.02</td><td>&quot;USD&quot;</td><td>8.34</td></tr></tbody></table></div>"
      ],
      "text/plain": [
       "shape: (10, 5)\n",
       "┌────────┬────────────┬─────────┬──────────┬─────────┐\n",
       "│ DSCode ┆ Date       ┆ RI      ┆ Currency ┆ MV      │\n",
       "│ ---    ┆ ---        ┆ ---     ┆ ---      ┆ ---     │\n",
       "│ str    ┆ date       ┆ f64     ┆ str      ┆ f64     │\n",
       "╞════════╪════════════╪═════════╪══════════╪═════════╡\n",
       "│ 54453W ┆ 2021-02-16 ┆ 65.72   ┆ USD      ┆ 7.91    │\n",
       "│ 15250U ┆ 2021-02-16 ┆ 37.59   ┆ USD      ┆ 25.39   │\n",
       "│ 54802M ┆ 2021-02-16 ┆ 0.68    ┆ USD      ┆ 1.09    │\n",
       "│ 14736U ┆ 2021-02-16 ┆ 0.11    ┆ USD      ┆ 0.01    │\n",
       "│ 329671 ┆ 2021-02-16 ┆ 1309.39 ┆ USD      ┆ 9534.63 │\n",
       "│ 514506 ┆ 2021-02-16 ┆ 0.46    ┆ USD      ┆ 112.55  │\n",
       "│ 512977 ┆ 2021-02-16 ┆ 6.07    ┆ USD      ┆ 20.64   │\n",
       "│ 410578 ┆ 2021-02-16 ┆ 0.14    ┆ USD      ┆ 0.07    │\n",
       "│ 883767 ┆ 2021-02-16 ┆ 1.79    ┆ USD      ┆ 8.74    │\n",
       "│ 41206R ┆ 2021-02-16 ┆ 0.02    ┆ USD      ┆ 8.34    │\n",
       "└────────┴────────────┴─────────┴──────────┴─────────┘"
      ]
     },
     "execution_count": 20,
     "metadata": {},
     "output_type": "execute_result"
    }
   ],
   "source": [
    "import polars as pl\n",
    "\n",
    "file_path = \"data/interim/datastream/Datastream_consolidated.parquet\"\n",
    "\n",
    "# Lazily scan the file, then fetch the first 5 rows.\n",
    "df = pl.scan_parquet(file_path).fetch(10)\n",
    "\n",
    "# Display the result\n",
    "df\n"
   ]
  },
  {
   "cell_type": "code",
   "execution_count": 14,
   "id": "fd9da561-494c-4505-a369-8bcfb4fd96a0",
   "metadata": {},
   "outputs": [
    {
     "name": "stdout",
     "output_type": "stream",
     "text": [
      "/home/jovyan/work/fpool1/pseidel/Paul_International_Anomalies/my_project/international-anomalies\n"
     ]
    }
   ],
   "source": [
    "cd /home/jovyan/work/fpool1/pseidel/Paul_International_Anomalies/my_project/international-anomalies"
   ]
  },
  {
   "cell_type": "code",
   "execution_count": 21,
   "id": "09950487-2940-4e29-95d9-cadeafdf7eef",
   "metadata": {},
   "outputs": [
    {
     "name": "stderr",
     "output_type": "stream",
     "text": [
      "/tmp/ipykernel_3615719/517076322.py:6: DeprecationWarning: `LazyFrame.fetch` is deprecated. `LazyFrame.fetch` is deprecated; use `LazyFrame.collect` instead, in conjunction with a call to `head`.\n",
      "  df = pl.scan_parquet(file_path).fetch(5)\n"
     ]
    },
    {
     "data": {
      "text/html": [
       "<div><style>\n",
       ".dataframe > thead > tr,\n",
       ".dataframe > tbody > tr {\n",
       "  text-align: right;\n",
       "  white-space: pre-wrap;\n",
       "}\n",
       "</style>\n",
       "<small>shape: (5, 24)</small><table border=\"1\" class=\"dataframe\"><thead><tr><th>Code</th><th>Mnemonic</th><th>DSCD</th><th>NAME</th><th>ISIN</th><th>SECD</th><th>LOC</th><th>GEOGC</th><th>EXNAME</th><th>ISINID</th><th>ADRP</th><th>MAJOR</th><th>TYPE</th><th>BDATE</th><th>TIME</th><th>WC06100</th><th>WC06105</th><th>WC06035</th><th>WC07021</th><th>WC11502</th><th>WC11503</th><th>NPCUR</th><th>ISOCUR</th><th>PCUR</th></tr><tr><td>str</td><td>str</td><td>str</td><td>str</td><td>str</td><td>null</td><td>str</td><td>str</td><td>str</td><td>str</td><td>str</td><td>str</td><td>str</td><td>str</td><td>str</td><td>str</td><td>str</td><td>str</td><td>i64</td><td>str</td><td>str</td><td>str</td><td>str</td><td>str</td></tr></thead><tbody><tr><td>&quot;29529R&quot;</td><td>&quot;FXJPXALL&quot;</td><td>&quot;29529R&quot;</td><td>&quot;CONVUM&quot;</td><td>&quot;JP3910200009&quot;</td><td>null</td><td>&quot;J6265&quot;</td><td>&quot;JP&quot;</td><td>&quot;Tokyo SE&quot;</td><td>&quot;P&quot;</td><td>&quot;29529R&quot;</td><td>&quot;Y&quot;</td><td>&quot;EQ&quot;</td><td>&quot;20/10/2004&quot;</td><td>&quot;04/02/2025&quot;</td><td>&quot;C&quot;</td><td>&quot;C392KG600&quot;</td><td>&quot;C392KG600&quot;</td><td>3563</td><td>null</td><td>null</td><td>&quot;JPY&quot;</td><td>&quot;JPY&quot;</td><td>&quot;Y&quot;</td></tr><tr><td>&quot;93826Z&quot;</td><td>&quot;FHSTCALL&quot;</td><td>&quot;93826Z&quot;</td><td>&quot;VIETTEL CONSULTANT AND DESIGN&quot;</td><td>&quot;VN000000VTK9&quot;</td><td>null</td><td>&quot;VTVTK&quot;</td><td>&quot;VI&quot;</td><td>&quot;Hanoi UPCOM&quot;</td><td>&quot;P&quot;</td><td>&quot;93826Z&quot;</td><td>&quot;Y&quot;</td><td>&quot;EQ&quot;</td><td>&quot;18/12/2018&quot;</td><td>&quot;04/02/2025&quot;</td><td>&quot;C&quot;</td><td>&quot;C704042S0&quot;</td><td>&quot;C704042S0&quot;</td><td>1623</td><td>null</td><td>null</td><td>&quot;VND&quot;</td><td>&quot;VND&quot;</td><td>&quot;VD&quot;</td></tr><tr><td>&quot;71976Q&quot;</td><td>&quot;FINALL&quot;</td><td>&quot;71976Q&quot;</td><td>&quot;MULTI PURP.TRDG.&amp; AGS.&quot;</td><td>&quot;INE017P01014&quot;</td><td>null</td><td>&quot;:ZMULTIPU&quot;</td><td>&quot;IN&quot;</td><td>&quot;BSE Ltd.&quot;</td><td>&quot;P&quot;</td><td>&quot;71976Q&quot;</td><td>&quot;Y&quot;</td><td>&quot;EQ&quot;</td><td>&quot;20/03/2006&quot;</td><td>&quot;04/02/2025&quot;</td><td>&quot;C&quot;</td><td>&quot;C356084Y0&quot;</td><td>&quot;C356084Y0&quot;</td><td>6211</td><td>null</td><td>null</td><td>&quot;INR&quot;</td><td>&quot;INR&quot;</td><td>&quot;IR&quot;</td></tr><tr><td>&quot;67338X&quot;</td><td>&quot;FINALL&quot;</td><td>&quot;67338X&quot;</td><td>&quot;NATIONAL PLASTIC TECHS.&quot;</td><td>&quot;INE896D01017&quot;</td><td>null</td><td>&quot;:NATPLASTI&quot;</td><td>&quot;IN&quot;</td><td>&quot;BSE Ltd.&quot;</td><td>&quot;P&quot;</td><td>&quot;67338X&quot;</td><td>&quot;Y&quot;</td><td>&quot;EQ&quot;</td><td>&quot;05/01/2004&quot;</td><td>&quot;04/02/2025&quot;</td><td>&quot;C&quot;</td><td>&quot;C35600220&quot;</td><td>&quot;C35600220&quot;</td><td>3089</td><td>null</td><td>null</td><td>&quot;INR&quot;</td><td>&quot;INR&quot;</td><td>&quot;IR&quot;</td></tr><tr><td>&quot;8784W5&quot;</td><td>&quot;FHSTCALL&quot;</td><td>&quot;8784W5&quot;</td><td>&quot;VINACOMIN- INVESTMENT TRDG.&amp;.S…</td><td>&quot;VN000000ITS9&quot;</td><td>null</td><td>&quot;VTITS&quot;</td><td>&quot;VI&quot;</td><td>&quot;Hanoi UPCOM&quot;</td><td>&quot;P&quot;</td><td>&quot;8784W5&quot;</td><td>&quot;Y&quot;</td><td>&quot;EQ&quot;</td><td>&quot;18/12/2015&quot;</td><td>&quot;04/02/2025&quot;</td><td>&quot;C&quot;</td><td>&quot;C704026Y0&quot;</td><td>&quot;C704026Y0&quot;</td><td>5084</td><td>null</td><td>null</td><td>&quot;VND&quot;</td><td>&quot;VND&quot;</td><td>&quot;VD&quot;</td></tr></tbody></table></div>"
      ],
      "text/plain": [
       "shape: (5, 24)\n",
       "┌────────┬──────────┬────────┬───────────────────────────────┬───┬─────────┬───────┬────────┬──────┐\n",
       "│ Code   ┆ Mnemonic ┆ DSCD   ┆ NAME                          ┆ … ┆ WC11503 ┆ NPCUR ┆ ISOCUR ┆ PCUR │\n",
       "│ ---    ┆ ---      ┆ ---    ┆ ---                           ┆   ┆ ---     ┆ ---   ┆ ---    ┆ ---  │\n",
       "│ str    ┆ str      ┆ str    ┆ str                           ┆   ┆ str     ┆ str   ┆ str    ┆ str  │\n",
       "╞════════╪══════════╪════════╪═══════════════════════════════╪═══╪═════════╪═══════╪════════╪══════╡\n",
       "│ 29529R ┆ FXJPXALL ┆ 29529R ┆ CONVUM                        ┆ … ┆ null    ┆ JPY   ┆ JPY    ┆ Y    │\n",
       "│ 93826Z ┆ FHSTCALL ┆ 93826Z ┆ VIETTEL CONSULTANT AND DESIGN ┆ … ┆ null    ┆ VND   ┆ VND    ┆ VD   │\n",
       "│ 71976Q ┆ FINALL   ┆ 71976Q ┆ MULTI PURP.TRDG.& AGS.        ┆ … ┆ null    ┆ INR   ┆ INR    ┆ IR   │\n",
       "│ 67338X ┆ FINALL   ┆ 67338X ┆ NATIONAL PLASTIC TECHS.       ┆ … ┆ null    ┆ INR   ┆ INR    ┆ IR   │\n",
       "│ 8784W5 ┆ FHSTCALL ┆ 8784W5 ┆ VINACOMIN- INVESTMENT         ┆ … ┆ null    ┆ VND   ┆ VND    ┆ VD   │\n",
       "│        ┆          ┆        ┆ TRDG.&.S…                     ┆   ┆         ┆       ┆        ┆      │\n",
       "└────────┴──────────┴────────┴───────────────────────────────┴───┴─────────┴───────┴────────┴──────┘"
      ]
     },
     "execution_count": 21,
     "metadata": {},
     "output_type": "execute_result"
    }
   ],
   "source": [
    "import polars as pl\n",
    "\n",
    "file_path = \"data/interim/universal matching file/UniverseMatchingFile_consolidated.parquet\"\n",
    "\n",
    "# Lazily scan the file, then fetch the first 5 rows.\n",
    "df = pl.scan_parquet(file_path).fetch(5)\n",
    "\n",
    "# Display the result\n",
    "df\n"
   ]
  },
  {
   "cell_type": "code",
   "execution_count": 22,
   "id": "981d780d-8bb9-42a6-8cc6-cd9947246b95",
   "metadata": {},
   "outputs": [
    {
     "name": "stderr",
     "output_type": "stream",
     "text": [
      "/tmp/ipykernel_3615719/3217033921.py:6: DeprecationWarning: `LazyFrame.fetch` is deprecated. `LazyFrame.fetch` is deprecated; use `LazyFrame.collect` instead, in conjunction with a call to `head`.\n",
      "  df = pl.scan_parquet(file_path).fetch(5)\n"
     ]
    },
    {
     "data": {
      "text/html": [
       "<div><style>\n",
       ".dataframe > thead > tr,\n",
       ".dataframe > tbody > tr {\n",
       "  text-align: right;\n",
       "  white-space: pre-wrap;\n",
       "}\n",
       "</style>\n",
       "<small>shape: (5, 7)</small><table border=\"1\" class=\"dataframe\"><thead><tr><th>DSCode</th><th>Date</th><th>RI</th><th>Currency</th><th>MV</th><th>GEOGC</th><th>WC06105</th></tr><tr><td>str</td><td>date</td><td>f64</td><td>str</td><td>f64</td><td>str</td><td>str</td></tr></thead><tbody><tr><td>&quot;54453W&quot;</td><td>2021-02-16</td><td>65.72</td><td>&quot;USD&quot;</td><td>7.91</td><td>&quot;CN&quot;</td><td>&quot;C124D05M0&quot;</td></tr><tr><td>&quot;15250U&quot;</td><td>2021-02-16</td><td>37.59</td><td>&quot;USD&quot;</td><td>25.39</td><td>&quot;CN&quot;</td><td>&quot;C124K8350&quot;</td></tr><tr><td>&quot;54802M&quot;</td><td>2021-02-16</td><td>0.68</td><td>&quot;USD&quot;</td><td>1.09</td><td>&quot;US&quot;</td><td>&quot;C124AC7M0&quot;</td></tr><tr><td>&quot;14736U&quot;</td><td>2021-02-16</td><td>0.11</td><td>&quot;USD&quot;</td><td>0.01</td><td>null</td><td>null</td></tr><tr><td>&quot;329671&quot;</td><td>2021-02-16</td><td>1309.39</td><td>&quot;USD&quot;</td><td>9534.63</td><td>&quot;CN&quot;</td><td>&quot;C12481960&quot;</td></tr></tbody></table></div>"
      ],
      "text/plain": [
       "shape: (5, 7)\n",
       "┌────────┬────────────┬─────────┬──────────┬─────────┬───────┬───────────┐\n",
       "│ DSCode ┆ Date       ┆ RI      ┆ Currency ┆ MV      ┆ GEOGC ┆ WC06105   │\n",
       "│ ---    ┆ ---        ┆ ---     ┆ ---      ┆ ---     ┆ ---   ┆ ---       │\n",
       "│ str    ┆ date       ┆ f64     ┆ str      ┆ f64     ┆ str   ┆ str       │\n",
       "╞════════╪════════════╪═════════╪══════════╪═════════╪═══════╪═══════════╡\n",
       "│ 54453W ┆ 2021-02-16 ┆ 65.72   ┆ USD      ┆ 7.91    ┆ CN    ┆ C124D05M0 │\n",
       "│ 15250U ┆ 2021-02-16 ┆ 37.59   ┆ USD      ┆ 25.39   ┆ CN    ┆ C124K8350 │\n",
       "│ 54802M ┆ 2021-02-16 ┆ 0.68    ┆ USD      ┆ 1.09    ┆ US    ┆ C124AC7M0 │\n",
       "│ 14736U ┆ 2021-02-16 ┆ 0.11    ┆ USD      ┆ 0.01    ┆ null  ┆ null      │\n",
       "│ 329671 ┆ 2021-02-16 ┆ 1309.39 ┆ USD      ┆ 9534.63 ┆ CN    ┆ C12481960 │\n",
       "└────────┴────────────┴─────────┴──────────┴─────────┴───────┴───────────┘"
      ]
     },
     "execution_count": 22,
     "metadata": {},
     "output_type": "execute_result"
    }
   ],
   "source": [
    "import polars as pl\n",
    "\n",
    "file_path = \"data/processed/Datastream_with_matching.parquet\"\n",
    "\n",
    "# Lazily scan the file, then fetch the first 5 rows.\n",
    "df = pl.scan_parquet(file_path).fetch(5)\n",
    "\n",
    "# Display the result\n",
    "df\n"
   ]
  },
  {
   "cell_type": "code",
   "execution_count": 24,
   "id": "6c2b5561-50f6-443c-afc1-8776f5df72ad",
   "metadata": {},
   "outputs": [
    {
     "name": "stderr",
     "output_type": "stream",
     "text": [
      "/tmp/ipykernel_3615719/2602304410.py:6: DeprecationWarning: `LazyFrame.fetch` is deprecated. `LazyFrame.fetch` is deprecated; use `LazyFrame.collect` instead, in conjunction with a call to `head`.\n",
      "  df = pl.scan_parquet(file_path).fetch(5)\n"
     ]
    },
    {
     "data": {
      "text/html": [
       "<div><style>\n",
       ".dataframe > thead > tr,\n",
       ".dataframe > tbody > tr {\n",
       "  text-align: right;\n",
       "  white-space: pre-wrap;\n",
       "}\n",
       "</style>\n",
       "<small>shape: (5, 6)</small><table border=\"1\" class=\"dataframe\"><thead><tr><th>ws_id</th><th>point_date</th><th>freq</th><th>fiscal_period</th><th>item_code</th><th>value</th></tr><tr><td>str</td><td>datetime[ns]</td><td>str</td><td>i64</td><td>i64</td><td>str</td></tr></thead><tbody><tr><td>&quot;C00948205&quot;</td><td>2021-07-09 00:00:00</td><td>&quot;A&quot;</td><td>2018</td><td>5202</td><td>&quot;-.21167&quot;</td></tr><tr><td>&quot;C00948205&quot;</td><td>2021-07-09 00:00:00</td><td>&quot;A&quot;</td><td>2018</td><td>5301</td><td>&quot;12.96711&quot;</td></tr><tr><td>&quot;C00948205&quot;</td><td>2021-07-09 00:00:00</td><td>&quot;A&quot;</td><td>2018</td><td>5491</td><td>&quot;-.00195&quot;</td></tr><tr><td>&quot;C00948205&quot;</td><td>2021-07-09 00:00:00</td><td>&quot;A&quot;</td><td>2018</td><td>5502</td><td>&quot;-.13273&quot;</td></tr><tr><td>&quot;C00948205&quot;</td><td>2021-07-09 00:00:00</td><td>&quot;A&quot;</td><td>2018</td><td>5508</td><td>&quot;0&quot;</td></tr></tbody></table></div>"
      ],
      "text/plain": [
       "shape: (5, 6)\n",
       "┌───────────┬─────────────────────┬──────┬───────────────┬───────────┬──────────┐\n",
       "│ ws_id     ┆ point_date          ┆ freq ┆ fiscal_period ┆ item_code ┆ value    │\n",
       "│ ---       ┆ ---                 ┆ ---  ┆ ---           ┆ ---       ┆ ---      │\n",
       "│ str       ┆ datetime[ns]        ┆ str  ┆ i64           ┆ i64       ┆ str      │\n",
       "╞═══════════╪═════════════════════╪══════╪═══════════════╪═══════════╪══════════╡\n",
       "│ C00948205 ┆ 2021-07-09 00:00:00 ┆ A    ┆ 2018          ┆ 5202      ┆ -.21167  │\n",
       "│ C00948205 ┆ 2021-07-09 00:00:00 ┆ A    ┆ 2018          ┆ 5301      ┆ 12.96711 │\n",
       "│ C00948205 ┆ 2021-07-09 00:00:00 ┆ A    ┆ 2018          ┆ 5491      ┆ -.00195  │\n",
       "│ C00948205 ┆ 2021-07-09 00:00:00 ┆ A    ┆ 2018          ┆ 5502      ┆ -.13273  │\n",
       "│ C00948205 ┆ 2021-07-09 00:00:00 ┆ A    ┆ 2018          ┆ 5508      ┆ 0        │\n",
       "└───────────┴─────────────────────┴──────┴───────────────┴───────────┴──────────┘"
      ]
     },
     "execution_count": 24,
     "metadata": {},
     "output_type": "execute_result"
    }
   ],
   "source": [
    "import polars as pl\n",
    "\n",
    "file_path = \"data/interim/worldscope/WSFV_f_20250131.parquet\"\n",
    "\n",
    "# Lazily scan the file, then fetch the first 5 rows.\n",
    "df = pl.scan_parquet(file_path).fetch(5)\n",
    "\n",
    "# Display the result\n",
    "df\n"
   ]
  },
  {
   "cell_type": "code",
   "execution_count": 25,
   "id": "e01d470a-5c9e-405b-860b-5c8d0b1a52f0",
   "metadata": {},
   "outputs": [
    {
     "name": "stderr",
     "output_type": "stream",
     "text": [
      "/tmp/ipykernel_3615719/3504802805.py:6: DeprecationWarning: `LazyFrame.fetch` is deprecated. `LazyFrame.fetch` is deprecated; use `LazyFrame.collect` instead, in conjunction with a call to `head`.\n",
      "  df = pl.scan_parquet(file_path).fetch(5)\n"
     ]
    },
    {
     "data": {
      "text/html": [
       "<div><style>\n",
       ".dataframe > thead > tr,\n",
       ".dataframe > tbody > tr {\n",
       "  text-align: right;\n",
       "  white-space: pre-wrap;\n",
       "}\n",
       "</style>\n",
       "<small>shape: (5, 4)</small><table border=\"1\" class=\"dataframe\"><thead><tr><th>ws_id</th><th>point_date</th><th>item_code</th><th>value</th></tr><tr><td>str</td><td>datetime[ns]</td><td>i64</td><td>str</td></tr></thead><tbody><tr><td>&quot;C00948205&quot;</td><td>2021-07-09 00:00:00</td><td>5006</td><td>&quot;5.6&quot;</td></tr><tr><td>&quot;C00948205&quot;</td><td>2021-07-09 00:00:00</td><td>5007</td><td>&quot;8.45&quot;</td></tr><tr><td>&quot;C00948205&quot;</td><td>2021-07-09 00:00:00</td><td>5008</td><td>&quot;3.65&quot;</td></tr><tr><td>&quot;C00948205&quot;</td><td>2021-07-09 00:00:00</td><td>5009</td><td>&quot;d20210709&quot;</td></tr><tr><td>&quot;C00948205&quot;</td><td>2021-07-09 00:00:00</td><td>5091</td><td>&quot;8.45&quot;</td></tr></tbody></table></div>"
      ],
      "text/plain": [
       "shape: (5, 4)\n",
       "┌───────────┬─────────────────────┬───────────┬───────────┐\n",
       "│ ws_id     ┆ point_date          ┆ item_code ┆ value     │\n",
       "│ ---       ┆ ---                 ┆ ---       ┆ ---       │\n",
       "│ str       ┆ datetime[ns]        ┆ i64       ┆ str       │\n",
       "╞═══════════╪═════════════════════╪═══════════╪═══════════╡\n",
       "│ C00948205 ┆ 2021-07-09 00:00:00 ┆ 5006      ┆ 5.6       │\n",
       "│ C00948205 ┆ 2021-07-09 00:00:00 ┆ 5007      ┆ 8.45      │\n",
       "│ C00948205 ┆ 2021-07-09 00:00:00 ┆ 5008      ┆ 3.65      │\n",
       "│ C00948205 ┆ 2021-07-09 00:00:00 ┆ 5009      ┆ d20210709 │\n",
       "│ C00948205 ┆ 2021-07-09 00:00:00 ┆ 5091      ┆ 8.45      │\n",
       "└───────────┴─────────────────────┴───────────┴───────────┘"
      ]
     },
     "execution_count": 25,
     "metadata": {},
     "output_type": "execute_result"
    }
   ],
   "source": [
    "import polars as pl\n",
    "\n",
    "file_path = \"data/interim/worldscope/WSCurrent_f_20250131.parquet\"\n",
    "\n",
    "# Lazily scan the file, then fetch the first 5 rows.\n",
    "df = pl.scan_parquet(file_path).fetch(5)\n",
    "\n",
    "# Display the result\n",
    "df\n"
   ]
  },
  {
   "cell_type": "code",
   "execution_count": 26,
   "id": "52649619-1d9f-4df3-b07b-bd1b998b2273",
   "metadata": {},
   "outputs": [
    {
     "name": "stderr",
     "output_type": "stream",
     "text": [
      "/tmp/ipykernel_3615719/4271025186.py:6: DeprecationWarning: `LazyFrame.fetch` is deprecated. `LazyFrame.fetch` is deprecated; use `LazyFrame.collect` instead, in conjunction with a call to `head`.\n",
      "  df = pl.scan_parquet(file_path).fetch(5)\n"
     ]
    },
    {
     "data": {
      "text/html": [
       "<div><style>\n",
       ".dataframe > thead > tr,\n",
       ".dataframe > tbody > tr {\n",
       "  text-align: right;\n",
       "  white-space: pre-wrap;\n",
       "}\n",
       "</style>\n",
       "<small>shape: (5, 6)</small><table border=\"1\" class=\"dataframe\"><thead><tr><th>ws_id</th><th>point_date</th><th>freq</th><th>fiscal_period</th><th>item_code</th><th>value</th></tr><tr><td>str</td><td>datetime[ns]</td><td>str</td><td>i64</td><td>i64</td><td>str</td></tr></thead><tbody><tr><td>&quot;C00948205&quot;</td><td>2021-11-22 00:00:00</td><td>&quot;Q&quot;</td><td>8086</td><td>9104</td><td>&quot;-4.16177&quot;</td></tr><tr><td>&quot;C00948205&quot;</td><td>2021-12-31 00:00:00</td><td>&quot;A&quot;</td><td>2021</td><td>8011</td><td>&quot;12537.0999&quot;</td></tr><tr><td>&quot;C00948205&quot;</td><td>2022-04-06 00:00:00</td><td>&quot;A&quot;</td><td>2021</td><td>8302</td><td>&quot;-820.18986&quot;</td></tr><tr><td>&quot;C00948205&quot;</td><td>2022-04-06 00:00:00</td><td>&quot;A&quot;</td><td>2021</td><td>9100</td><td>&quot;-12.78463&quot;</td></tr><tr><td>&quot;C00948205&quot;</td><td>2022-04-06 00:00:00</td><td>&quot;A&quot;</td><td>2021</td><td>9101</td><td>&quot;-2.64861&quot;</td></tr></tbody></table></div>"
      ],
      "text/plain": [
       "shape: (5, 6)\n",
       "┌───────────┬─────────────────────┬──────┬───────────────┬───────────┬────────────┐\n",
       "│ ws_id     ┆ point_date          ┆ freq ┆ fiscal_period ┆ item_code ┆ value      │\n",
       "│ ---       ┆ ---                 ┆ ---  ┆ ---           ┆ ---       ┆ ---        │\n",
       "│ str       ┆ datetime[ns]        ┆ str  ┆ i64           ┆ i64       ┆ str        │\n",
       "╞═══════════╪═════════════════════╪══════╪═══════════════╪═══════════╪════════════╡\n",
       "│ C00948205 ┆ 2021-11-22 00:00:00 ┆ Q    ┆ 8086          ┆ 9104      ┆ -4.16177   │\n",
       "│ C00948205 ┆ 2021-12-31 00:00:00 ┆ A    ┆ 2021          ┆ 8011      ┆ 12537.0999 │\n",
       "│ C00948205 ┆ 2022-04-06 00:00:00 ┆ A    ┆ 2021          ┆ 8302      ┆ -820.18986 │\n",
       "│ C00948205 ┆ 2022-04-06 00:00:00 ┆ A    ┆ 2021          ┆ 9100      ┆ -12.78463  │\n",
       "│ C00948205 ┆ 2022-04-06 00:00:00 ┆ A    ┆ 2021          ┆ 9101      ┆ -2.64861   │\n",
       "└───────────┴─────────────────────┴──────┴───────────────┴───────────┴────────────┘"
      ]
     },
     "execution_count": 26,
     "metadata": {},
     "output_type": "execute_result"
    }
   ],
   "source": [
    "import polars as pl\n",
    "\n",
    "file_path = \"data/interim/worldscope/WSRatios_f_20250131.parquet\"\n",
    "\n",
    "# Lazily scan the file, then fetch the first 5 rows.\n",
    "df = pl.scan_parquet(file_path).fetch(5)\n",
    "\n",
    "# Display the result\n",
    "df\n"
   ]
  },
  {
   "cell_type": "code",
   "execution_count": 27,
   "id": "11570a03-0c4d-47bc-8b67-6d471e502a05",
   "metadata": {},
   "outputs": [
    {
     "name": "stderr",
     "output_type": "stream",
     "text": [
      "/tmp/ipykernel_3615719/3495334201.py:6: DeprecationWarning: `LazyFrame.fetch` is deprecated. `LazyFrame.fetch` is deprecated; use `LazyFrame.collect` instead, in conjunction with a call to `head`.\n",
      "  df = pl.scan_parquet(file_path).fetch(5)\n"
     ]
    },
    {
     "data": {
      "text/html": [
       "<div><style>\n",
       ".dataframe > thead > tr,\n",
       ".dataframe > tbody > tr {\n",
       "  text-align: right;\n",
       "  white-space: pre-wrap;\n",
       "}\n",
       "</style>\n",
       "<small>shape: (5, 6)</small><table border=\"1\" class=\"dataframe\"><thead><tr><th>ws_id</th><th>point_date</th><th>freq</th><th>fiscal_period</th><th>item_code</th><th>value</th></tr><tr><td>str</td><td>datetime[ns]</td><td>str</td><td>i64</td><td>i64</td><td>str</td></tr></thead><tbody><tr><td>&quot;C00948205&quot;</td><td>2021-07-09 00:00:00</td><td>&quot;A&quot;</td><td>2018</td><td>18260</td><td>&quot;0&quot;</td></tr><tr><td>&quot;C00948205&quot;</td><td>2021-07-09 00:00:00</td><td>&quot;A&quot;</td><td>2018</td><td>18261</td><td>&quot;0&quot;</td></tr><tr><td>&quot;C00948205&quot;</td><td>2021-07-09 00:00:00</td><td>&quot;A&quot;</td><td>2019</td><td>18260</td><td>&quot;0&quot;</td></tr><tr><td>&quot;C00948205&quot;</td><td>2021-07-09 00:00:00</td><td>&quot;A&quot;</td><td>2019</td><td>18261</td><td>&quot;0&quot;</td></tr><tr><td>&quot;C00948205&quot;</td><td>2021-07-09 00:00:00</td><td>&quot;A&quot;</td><td>2020</td><td>18260</td><td>&quot;0&quot;</td></tr></tbody></table></div>"
      ],
      "text/plain": [
       "shape: (5, 6)\n",
       "┌───────────┬─────────────────────┬──────┬───────────────┬───────────┬───────┐\n",
       "│ ws_id     ┆ point_date          ┆ freq ┆ fiscal_period ┆ item_code ┆ value │\n",
       "│ ---       ┆ ---                 ┆ ---  ┆ ---           ┆ ---       ┆ ---   │\n",
       "│ str       ┆ datetime[ns]        ┆ str  ┆ i64           ┆ i64       ┆ str   │\n",
       "╞═══════════╪═════════════════════╪══════╪═══════════════╪═══════════╪═══════╡\n",
       "│ C00948205 ┆ 2021-07-09 00:00:00 ┆ A    ┆ 2018          ┆ 18260     ┆ 0     │\n",
       "│ C00948205 ┆ 2021-07-09 00:00:00 ┆ A    ┆ 2018          ┆ 18261     ┆ 0     │\n",
       "│ C00948205 ┆ 2021-07-09 00:00:00 ┆ A    ┆ 2019          ┆ 18260     ┆ 0     │\n",
       "│ C00948205 ┆ 2021-07-09 00:00:00 ┆ A    ┆ 2019          ┆ 18261     ┆ 0     │\n",
       "│ C00948205 ┆ 2021-07-09 00:00:00 ┆ A    ┆ 2020          ┆ 18260     ┆ 0     │\n",
       "└───────────┴─────────────────────┴──────┴───────────────┴───────────┴───────┘"
      ]
     },
     "execution_count": 27,
     "metadata": {},
     "output_type": "execute_result"
    }
   ],
   "source": [
    "import polars as pl\n",
    "\n",
    "file_path = \"data/interim/worldscope/WSSupplemental_f_20250131.parquet\"\n",
    "\n",
    "# Lazily scan the file, then fetch the first 5 rows.\n",
    "df = pl.scan_parquet(file_path).fetch(5)\n",
    "\n",
    "# Display the result\n",
    "df\n"
   ]
  },
  {
   "cell_type": "code",
   "execution_count": 31,
   "id": "fe08fc97-ea66-4594-802d-b9cc21485f95",
   "metadata": {},
   "outputs": [
    {
     "name": "stderr",
     "output_type": "stream",
     "text": [
      "/tmp/ipykernel_3615719/279130134.py:6: DeprecationWarning: `LazyFrame.fetch` is deprecated. `LazyFrame.fetch` is deprecated; use `LazyFrame.collect` instead, in conjunction with a call to `head`.\n",
      "  df = pl.scan_parquet(file_path).fetch(10)\n"
     ]
    },
    {
     "data": {
      "text/html": [
       "<div><style>\n",
       ".dataframe > thead > tr,\n",
       ".dataframe > tbody > tr {\n",
       "  text-align: right;\n",
       "  white-space: pre-wrap;\n",
       "}\n",
       "</style>\n",
       "<small>shape: (10, 6)</small><table border=\"1\" class=\"dataframe\"><thead><tr><th>ws_id</th><th>point_date</th><th>freq</th><th>fiscal_period</th><th>item_code</th><th>value</th></tr><tr><td>str</td><td>datetime[ns]</td><td>str</td><td>i64</td><td>i64</td><td>str</td></tr></thead><tbody><tr><td>&quot;C02500770&quot;</td><td>1999-10-01 00:00:00</td><td>&quot;A&quot;</td><td>1992</td><td>2003</td><td>&quot;31.740299&quot;</td></tr><tr><td>&quot;C02500770&quot;</td><td>1999-10-01 00:00:00</td><td>&quot;A&quot;</td><td>1993</td><td>2003</td><td>&quot;17.222446&quot;</td></tr><tr><td>&quot;C02500770&quot;</td><td>1999-10-01 00:00:00</td><td>&quot;A&quot;</td><td>1994</td><td>2003</td><td>&quot;21.973704&quot;</td></tr><tr><td>&quot;C02500770&quot;</td><td>1999-10-01 00:00:00</td><td>&quot;A&quot;</td><td>1995</td><td>2003</td><td>&quot;33.648663&quot;</td></tr><tr><td>&quot;C02500770&quot;</td><td>1999-10-01 00:00:00</td><td>&quot;A&quot;</td><td>1996</td><td>2003</td><td>&quot;25.548878&quot;</td></tr><tr><td>&quot;C02500770&quot;</td><td>1999-10-01 00:00:00</td><td>&quot;A&quot;</td><td>1997</td><td>2003</td><td>&quot;22.211155&quot;</td></tr><tr><td>&quot;C02500770&quot;</td><td>1999-10-01 00:00:00</td><td>&quot;A&quot;</td><td>1998</td><td>2003</td><td>&quot;35.350934&quot;</td></tr><tr><td>&quot;C02500770&quot;</td><td>2000-05-26 00:00:00</td><td>&quot;A&quot;</td><td>1999</td><td>2003</td><td>&quot;5.707001&quot;</td></tr><tr><td>&quot;C02520200&quot;</td><td>1999-10-01 00:00:00</td><td>&quot;A&quot;</td><td>1987</td><td>2003</td><td>&quot;.0006491451&quot;</td></tr><tr><td>&quot;C02520200&quot;</td><td>1999-10-01 00:00:00</td><td>&quot;A&quot;</td><td>1988</td><td>2003</td><td>&quot;.0027074569&quot;</td></tr></tbody></table></div>"
      ],
      "text/plain": [
       "shape: (10, 6)\n",
       "┌───────────┬─────────────────────┬──────┬───────────────┬───────────┬─────────────┐\n",
       "│ ws_id     ┆ point_date          ┆ freq ┆ fiscal_period ┆ item_code ┆ value       │\n",
       "│ ---       ┆ ---                 ┆ ---  ┆ ---           ┆ ---       ┆ ---         │\n",
       "│ str       ┆ datetime[ns]        ┆ str  ┆ i64           ┆ i64       ┆ str         │\n",
       "╞═══════════╪═════════════════════╪══════╪═══════════════╪═══════════╪═════════════╡\n",
       "│ C02500770 ┆ 1999-10-01 00:00:00 ┆ A    ┆ 1992          ┆ 2003      ┆ 31.740299   │\n",
       "│ C02500770 ┆ 1999-10-01 00:00:00 ┆ A    ┆ 1993          ┆ 2003      ┆ 17.222446   │\n",
       "│ C02500770 ┆ 1999-10-01 00:00:00 ┆ A    ┆ 1994          ┆ 2003      ┆ 21.973704   │\n",
       "│ C02500770 ┆ 1999-10-01 00:00:00 ┆ A    ┆ 1995          ┆ 2003      ┆ 33.648663   │\n",
       "│ C02500770 ┆ 1999-10-01 00:00:00 ┆ A    ┆ 1996          ┆ 2003      ┆ 25.548878   │\n",
       "│ C02500770 ┆ 1999-10-01 00:00:00 ┆ A    ┆ 1997          ┆ 2003      ┆ 22.211155   │\n",
       "│ C02500770 ┆ 1999-10-01 00:00:00 ┆ A    ┆ 1998          ┆ 2003      ┆ 35.350934   │\n",
       "│ C02500770 ┆ 2000-05-26 00:00:00 ┆ A    ┆ 1999          ┆ 2003      ┆ 5.707001    │\n",
       "│ C02520200 ┆ 1999-10-01 00:00:00 ┆ A    ┆ 1987          ┆ 2003      ┆ .0006491451 │\n",
       "│ C02520200 ┆ 1999-10-01 00:00:00 ┆ A    ┆ 1988          ┆ 2003      ┆ .0027074569 │\n",
       "└───────────┴─────────────────────┴──────┴───────────────┴───────────┴─────────────┘"
      ]
     },
     "execution_count": 31,
     "metadata": {},
     "output_type": "execute_result"
    }
   ],
   "source": [
    "import polars as pl\n",
    "\n",
    "file_path = \"data/interim/worldscope_items/WS_item_2003.parquet\"\n",
    "\n",
    "# Lazily scan the file, then fetch the first 5 rows.\n",
    "df = pl.scan_parquet(file_path).fetch(10)\n",
    "\n",
    "# Display the result\n",
    "df\n"
   ]
  },
  {
   "cell_type": "code",
   "execution_count": 30,
   "id": "dd097c90-faa4-4279-bebf-ba3b7ac769ff",
   "metadata": {},
   "outputs": [
    {
     "name": "stderr",
     "output_type": "stream",
     "text": [
      "/tmp/ipykernel_3615719/21803784.py:6: DeprecationWarning: `LazyFrame.fetch` is deprecated. `LazyFrame.fetch` is deprecated; use `LazyFrame.collect` instead, in conjunction with a call to `head`.\n",
      "  df = pl.scan_parquet(file_path).fetch(15)\n"
     ]
    },
    {
     "data": {
      "text/html": [
       "<div><style>\n",
       ".dataframe > thead > tr,\n",
       ".dataframe > tbody > tr {\n",
       "  text-align: right;\n",
       "  white-space: pre-wrap;\n",
       "}\n",
       "</style>\n",
       "<small>shape: (15, 6)</small><table border=\"1\" class=\"dataframe\"><thead><tr><th>ws_id</th><th>point_date</th><th>freq</th><th>fiscal_period</th><th>item_code</th><th>value</th></tr><tr><td>str</td><td>datetime[ns]</td><td>str</td><td>i64</td><td>i64</td><td>str</td></tr></thead><tbody><tr><td>&quot;C036F63D0&quot;</td><td>2012-05-28 00:00:00</td><td>&quot;A&quot;</td><td>2011</td><td>5490</td><td>&quot;1.0532439&quot;</td></tr><tr><td>&quot;C036F63D0&quot;</td><td>2020-02-25 00:00:00</td><td>&quot;A&quot;</td><td>2011</td><td>5490</td><td>&quot;1.0479777&quot;</td></tr><tr><td>&quot;C036F63D0&quot;</td><td>2020-04-30 00:00:00</td><td>&quot;A&quot;</td><td>2011</td><td>5490</td><td>&quot;1.0532439&quot;</td></tr><tr><td>&quot;C2504O500&quot;</td><td>2010-06-30 00:00:00</td><td>&quot;A&quot;</td><td>2006</td><td>5490</td><td>&quot;1.10775&quot;</td></tr><tr><td>&quot;C516000C0&quot;</td><td>2018-07-02 00:00:00</td><td>&quot;A&quot;</td><td>2015</td><td>5490</td><td>&quot;973.65862&quot;</td></tr><tr><td>&hellip;</td><td>&hellip;</td><td>&hellip;</td><td>&hellip;</td><td>&hellip;</td><td>&hellip;</td></tr><tr><td>&quot;C84003000&quot;</td><td>2005-09-09 00:00:00</td><td>&quot;A&quot;</td><td>2005</td><td>5490</td><td>&quot;5.881355832&quot;</td></tr><tr><td>&quot;C84003000&quot;</td><td>2006-10-12 00:00:00</td><td>&quot;A&quot;</td><td>2006</td><td>5490</td><td>&quot;12.2488685&quot;</td></tr><tr><td>&quot;C84003000&quot;</td><td>2007-10-05 00:00:00</td><td>&quot;A&quot;</td><td>2007</td><td>5490</td><td>&quot;8.491278&quot;</td></tr><tr><td>&quot;C84003000&quot;</td><td>2009-09-16 00:00:00</td><td>&quot;A&quot;</td><td>2008</td><td>5490</td><td>&quot;.007964898&quot;</td></tr><tr><td>&quot;C84003000&quot;</td><td>2009-09-16 00:00:00</td><td>&quot;A&quot;</td><td>2009</td><td>5490</td><td>&quot;.0051112763&quot;</td></tr></tbody></table></div>"
      ],
      "text/plain": [
       "shape: (15, 6)\n",
       "┌───────────┬─────────────────────┬──────┬───────────────┬───────────┬─────────────┐\n",
       "│ ws_id     ┆ point_date          ┆ freq ┆ fiscal_period ┆ item_code ┆ value       │\n",
       "│ ---       ┆ ---                 ┆ ---  ┆ ---           ┆ ---       ┆ ---         │\n",
       "│ str       ┆ datetime[ns]        ┆ str  ┆ i64           ┆ i64       ┆ str         │\n",
       "╞═══════════╪═════════════════════╪══════╪═══════════════╪═══════════╪═════════════╡\n",
       "│ C036F63D0 ┆ 2012-05-28 00:00:00 ┆ A    ┆ 2011          ┆ 5490      ┆ 1.0532439   │\n",
       "│ C036F63D0 ┆ 2020-02-25 00:00:00 ┆ A    ┆ 2011          ┆ 5490      ┆ 1.0479777   │\n",
       "│ C036F63D0 ┆ 2020-04-30 00:00:00 ┆ A    ┆ 2011          ┆ 5490      ┆ 1.0532439   │\n",
       "│ C2504O500 ┆ 2010-06-30 00:00:00 ┆ A    ┆ 2006          ┆ 5490      ┆ 1.10775     │\n",
       "│ C516000C0 ┆ 2018-07-02 00:00:00 ┆ A    ┆ 2015          ┆ 5490      ┆ 973.65862   │\n",
       "│ …         ┆ …                   ┆ …    ┆ …             ┆ …         ┆ …           │\n",
       "│ C84003000 ┆ 2005-09-09 00:00:00 ┆ A    ┆ 2005          ┆ 5490      ┆ 5.881355832 │\n",
       "│ C84003000 ┆ 2006-10-12 00:00:00 ┆ A    ┆ 2006          ┆ 5490      ┆ 12.2488685  │\n",
       "│ C84003000 ┆ 2007-10-05 00:00:00 ┆ A    ┆ 2007          ┆ 5490      ┆ 8.491278    │\n",
       "│ C84003000 ┆ 2009-09-16 00:00:00 ┆ A    ┆ 2008          ┆ 5490      ┆ .007964898  │\n",
       "│ C84003000 ┆ 2009-09-16 00:00:00 ┆ A    ┆ 2009          ┆ 5490      ┆ .0051112763 │\n",
       "└───────────┴─────────────────────┴──────┴───────────────┴───────────┴─────────────┘"
      ]
     },
     "execution_count": 30,
     "metadata": {},
     "output_type": "execute_result"
    }
   ],
   "source": [
    "import polars as pl\n",
    "\n",
    "file_path = \"data/interim/worldscope_items/WS_item_5490.parquet\"\n",
    "\n",
    "# Lazily scan the file, then fetch the first 5 rows.\n",
    "df = pl.scan_parquet(file_path).fetch(15)\n",
    "\n",
    "# Display the result\n",
    "df\n"
   ]
  },
  {
   "cell_type": "code",
   "execution_count": 36,
   "id": "f0b1d3a3-0096-4d6e-a72b-00781e47dd59",
   "metadata": {},
   "outputs": [
    {
     "data": {
      "image/png": "[encoded data removed]",
      "text/plain": [
       "<Figure size 640x480 with 1 Axes>"
      ]
     },
     "metadata": {},
     "output_type": "display_data"
    }
   ],
   "source": [
    "import polars as pl\n",
    "import pandas as pd\n",
    "import matplotlib.pyplot as plt\n",
    "\n",
    "file_path = \"data/interim/worldscope_items/WS_item_2003.parquet\"\n",
    "\n",
    "# 1) Read into Polars, then convert to pandas\n",
    "df_polars = pl.read_parquet(file_path)\n",
    "df = df_polars.to_pandas()\n",
    "\n",
    "# 2) Count how many times each freq appears\n",
    "freq_counts = df[\"freq\"].value_counts().reset_index()\n",
    "freq_counts.columns = [\"freq\", \"counts\"]  # rename columns\n",
    "\n",
    "# 3) Plot using matplotlib\n",
    "plt.bar(freq_counts[\"freq\"], freq_counts[\"counts\"], color=\"skyblue\")\n",
    "plt.xlabel(\"freq\")\n",
    "plt.ylabel(\"Count\")\n",
    "plt.title(\"Distribution of freq\")\n",
    "plt.tight_layout()\n",
    "plt.show()\n"
   ]
  },
  {
   "cell_type": "code",
   "execution_count": 38,
   "id": "0ea5f146-51c5-4aee-98f7-0ad9cc720959",
   "metadata": {},
   "outputs": [
    {
     "name": "stderr",
     "output_type": "stream",
     "text": [
      "/tmp/ipykernel_3615719/2269076452.py:6: DeprecationWarning: `LazyFrame.fetch` is deprecated. `LazyFrame.fetch` is deprecated; use `LazyFrame.collect` instead, in conjunction with a call to `head`.\n",
      "  df = pl.scan_parquet(file_path).fetch(1000)\n"
     ]
    },
    {
     "data": {
      "text/html": [
       "<div><style>\n",
       ".dataframe > thead > tr,\n",
       ".dataframe > tbody > tr {\n",
       "  text-align: right;\n",
       "  white-space: pre-wrap;\n",
       "}\n",
       "</style>\n",
       "<small>shape: (1_000, 8)</small><table border=\"1\" class=\"dataframe\"><thead><tr><th>DSCode</th><th>Date</th><th>RI</th><th>Currency</th><th>MV</th><th>GEOGC</th><th>WC06105</th><th>WS2003</th></tr><tr><td>str</td><td>date</td><td>f64</td><td>str</td><td>f64</td><td>str</td><td>str</td><td>str</td></tr></thead><tbody><tr><td>&quot;54453W&quot;</td><td>2021-02-16</td><td>65.72</td><td>&quot;USD&quot;</td><td>7.91</td><td>&quot;CN&quot;</td><td>&quot;C124D05M0&quot;</td><td>null</td></tr><tr><td>&quot;15250U&quot;</td><td>2021-02-16</td><td>37.59</td><td>&quot;USD&quot;</td><td>25.39</td><td>&quot;CN&quot;</td><td>&quot;C124K8350&quot;</td><td>null</td></tr><tr><td>&quot;54802M&quot;</td><td>2021-02-16</td><td>0.68</td><td>&quot;USD&quot;</td><td>1.09</td><td>&quot;US&quot;</td><td>&quot;C124AC7M0&quot;</td><td>null</td></tr><tr><td>&quot;14736U&quot;</td><td>2021-02-16</td><td>0.11</td><td>&quot;USD&quot;</td><td>0.01</td><td>null</td><td>null</td><td>null</td></tr><tr><td>&quot;329671&quot;</td><td>2021-02-16</td><td>1309.39</td><td>&quot;USD&quot;</td><td>9534.63</td><td>&quot;CN&quot;</td><td>&quot;C12481960&quot;</td><td>null</td></tr><tr><td>&hellip;</td><td>&hellip;</td><td>&hellip;</td><td>&hellip;</td><td>&hellip;</td><td>&hellip;</td><td>&hellip;</td><td>&hellip;</td></tr><tr><td>&quot;27984R&quot;</td><td>2021-02-16</td><td>40.17</td><td>&quot;USD&quot;</td><td>24.07</td><td>&quot;CN&quot;</td><td>&quot;C1248F400&quot;</td><td>null</td></tr><tr><td>&quot;51432C&quot;</td><td>2021-02-16</td><td>1.82</td><td>&quot;USD&quot;</td><td>12.91</td><td>&quot;CN&quot;</td><td>&quot;C124DC150&quot;</td><td>null</td></tr><tr><td>&quot;362779&quot;</td><td>2021-02-16</td><td>0.19</td><td>&quot;USD&quot;</td><td>49.47</td><td>&quot;CN&quot;</td><td>&quot;C1244U2I0&quot;</td><td>null</td></tr><tr><td>&quot;514828&quot;</td><td>2021-02-16</td><td>0.0</td><td>&quot;USD&quot;</td><td>40.73</td><td>&quot;US&quot;</td><td>&quot;C124E5120&quot;</td><td>null</td></tr><tr><td>&quot;89419V&quot;</td><td>2021-02-16</td><td>312.86</td><td>&quot;USD&quot;</td><td>24.49</td><td>&quot;CN&quot;</td><td>&quot;C124IQ360&quot;</td><td>null</td></tr></tbody></table></div>"
      ],
      "text/plain": [
       "shape: (1_000, 8)\n",
       "┌────────┬────────────┬─────────┬──────────┬─────────┬───────┬───────────┬────────┐\n",
       "│ DSCode ┆ Date       ┆ RI      ┆ Currency ┆ MV      ┆ GEOGC ┆ WC06105   ┆ WS2003 │\n",
       "│ ---    ┆ ---        ┆ ---     ┆ ---      ┆ ---     ┆ ---   ┆ ---       ┆ ---    │\n",
       "│ str    ┆ date       ┆ f64     ┆ str      ┆ f64     ┆ str   ┆ str       ┆ str    │\n",
       "╞════════╪════════════╪═════════╪══════════╪═════════╪═══════╪═══════════╪════════╡\n",
       "│ 54453W ┆ 2021-02-16 ┆ 65.72   ┆ USD      ┆ 7.91    ┆ CN    ┆ C124D05M0 ┆ null   │\n",
       "│ 15250U ┆ 2021-02-16 ┆ 37.59   ┆ USD      ┆ 25.39   ┆ CN    ┆ C124K8350 ┆ null   │\n",
       "│ 54802M ┆ 2021-02-16 ┆ 0.68    ┆ USD      ┆ 1.09    ┆ US    ┆ C124AC7M0 ┆ null   │\n",
       "│ 14736U ┆ 2021-02-16 ┆ 0.11    ┆ USD      ┆ 0.01    ┆ null  ┆ null      ┆ null   │\n",
       "│ 329671 ┆ 2021-02-16 ┆ 1309.39 ┆ USD      ┆ 9534.63 ┆ CN    ┆ C12481960 ┆ null   │\n",
       "│ …      ┆ …          ┆ …       ┆ …        ┆ …       ┆ …     ┆ …         ┆ …      │\n",
       "│ 27984R ┆ 2021-02-16 ┆ 40.17   ┆ USD      ┆ 24.07   ┆ CN    ┆ C1248F400 ┆ null   │\n",
       "│ 51432C ┆ 2021-02-16 ┆ 1.82    ┆ USD      ┆ 12.91   ┆ CN    ┆ C124DC150 ┆ null   │\n",
       "│ 362779 ┆ 2021-02-16 ┆ 0.19    ┆ USD      ┆ 49.47   ┆ CN    ┆ C1244U2I0 ┆ null   │\n",
       "│ 514828 ┆ 2021-02-16 ┆ 0.0     ┆ USD      ┆ 40.73   ┆ US    ┆ C124E5120 ┆ null   │\n",
       "│ 89419V ┆ 2021-02-16 ┆ 312.86  ┆ USD      ┆ 24.49   ┆ CN    ┆ C124IQ360 ┆ null   │\n",
       "└────────┴────────────┴─────────┴──────────┴─────────┴───────┴───────────┴────────┘"
      ]
     },
     "execution_count": 38,
     "metadata": {},
     "output_type": "execute_result"
    }
   ],
   "source": [
    "import polars as pl\n",
    "\n",
    "file_path = \"data/processed/DS_with_WS2003.parquet\"\n",
    "\n",
    "# Lazily scan the file, then fetch the first 5 rows.\n",
    "df = pl.scan_parquet(file_path).fetch(1000)\n",
    "\n",
    "# Display the result\n",
    "df\n"
   ]
  },
  {
   "cell_type": "code",
   "execution_count": 39,
   "id": "4e78aaf2-3731-4c96-8947-773c66c65d62",
   "metadata": {},
   "outputs": [
    {
     "name": "stderr",
     "output_type": "stream",
     "text": [
      "/tmp/ipykernel_3615719/581516104.py:6: DeprecationWarning: `LazyFrame.fetch` is deprecated. `LazyFrame.fetch` is deprecated; use `LazyFrame.collect` instead, in conjunction with a call to `head`.\n",
      "  df = pl.scan_parquet(file_path).fetch(5)\n"
     ]
    },
    {
     "data": {
      "text/html": [
       "<div><style>\n",
       ".dataframe > thead > tr,\n",
       ".dataframe > tbody > tr {\n",
       "  text-align: right;\n",
       "  white-space: pre-wrap;\n",
       "}\n",
       "</style>\n",
       "<small>shape: (5, 6)</small><table border=\"1\" class=\"dataframe\"><thead><tr><th>ws_id</th><th>point_date</th><th>freq</th><th>fiscal_period</th><th>item_code</th><th>value</th></tr><tr><td>str</td><td>datetime[ns]</td><td>str</td><td>i64</td><td>i64</td><td>str</td></tr></thead><tbody><tr><td>&quot;C00948205&quot;</td><td>2021-07-09 00:00:00</td><td>&quot;A&quot;</td><td>2018</td><td>55350</td><td>&quot;d20181231&quot;</td></tr><tr><td>&quot;C00948205&quot;</td><td>2021-07-09 00:00:00</td><td>&quot;A&quot;</td><td>2018</td><td>55352</td><td>&quot;d20181231&quot;</td></tr><tr><td>&quot;C00948205&quot;</td><td>2021-07-09 00:00:00</td><td>&quot;A&quot;</td><td>2018</td><td>55555</td><td>&quot;s2018&quot;</td></tr><tr><td>&quot;C00948205&quot;</td><td>2021-07-09 00:00:00</td><td>&quot;A&quot;</td><td>2019</td><td>55350</td><td>&quot;d20191231&quot;</td></tr><tr><td>&quot;C00948205&quot;</td><td>2021-07-09 00:00:00</td><td>&quot;A&quot;</td><td>2019</td><td>55352</td><td>&quot;d20191231&quot;</td></tr></tbody></table></div>"
      ],
      "text/plain": [
       "shape: (5, 6)\n",
       "┌───────────┬─────────────────────┬──────┬───────────────┬───────────┬───────────┐\n",
       "│ ws_id     ┆ point_date          ┆ freq ┆ fiscal_period ┆ item_code ┆ value     │\n",
       "│ ---       ┆ ---                 ┆ ---  ┆ ---           ┆ ---       ┆ ---       │\n",
       "│ str       ┆ datetime[ns]        ┆ str  ┆ i64           ┆ i64       ┆ str       │\n",
       "╞═══════════╪═════════════════════╪══════╪═══════════════╪═══════════╪═══════════╡\n",
       "│ C00948205 ┆ 2021-07-09 00:00:00 ┆ A    ┆ 2018          ┆ 55350     ┆ d20181231 │\n",
       "│ C00948205 ┆ 2021-07-09 00:00:00 ┆ A    ┆ 2018          ┆ 55352     ┆ d20181231 │\n",
       "│ C00948205 ┆ 2021-07-09 00:00:00 ┆ A    ┆ 2018          ┆ 55555     ┆ s2018     │\n",
       "│ C00948205 ┆ 2021-07-09 00:00:00 ┆ A    ┆ 2019          ┆ 55350     ┆ d20191231 │\n",
       "│ C00948205 ┆ 2021-07-09 00:00:00 ┆ A    ┆ 2019          ┆ 55352     ┆ d20191231 │\n",
       "└───────────┴─────────────────────┴──────┴───────────────┴───────────┴───────────┘"
      ]
     },
     "execution_count": 39,
     "metadata": {},
     "output_type": "execute_result"
    }
   ],
   "source": [
    "import polars as pl\n",
    "\n",
    "file_path = \"data/interim/worldscope/WSCalendarPrd_f_20250131.parquet\"\n",
    "\n",
    "# Lazily scan the file, then fetch the first 5 rows.\n",
    "df = pl.scan_parquet(file_path).fetch(5)\n",
    "\n",
    "# Display the result\n",
    "df\n"
   ]
  },
  {
   "cell_type": "code",
   "execution_count": 40,
   "id": "2d14cd5b-8973-48b8-b0ab-00c416d44172",
   "metadata": {},
   "outputs": [
    {
     "name": "stderr",
     "output_type": "stream",
     "text": [
      "/tmp/ipykernel_3615719/1305006563.py:6: DeprecationWarning: `LazyFrame.fetch` is deprecated. `LazyFrame.fetch` is deprecated; use `LazyFrame.collect` instead, in conjunction with a call to `head`.\n",
      "  df = pl.scan_parquet(file_path).fetch(5)\n"
     ]
    },
    {
     "data": {
      "text/html": [
       "<div><style>\n",
       ".dataframe > thead > tr,\n",
       ".dataframe > tbody > tr {\n",
       "  text-align: right;\n",
       "  white-space: pre-wrap;\n",
       "}\n",
       "</style>\n",
       "<small>shape: (5, 6)</small><table border=\"1\" class=\"dataframe\"><thead><tr><th>ws_id</th><th>point_date</th><th>freq</th><th>fiscal_period</th><th>item_code</th><th>value</th></tr><tr><td>str</td><td>datetime[ns]</td><td>str</td><td>i64</td><td>i64</td><td>str</td></tr></thead><tbody><tr><td>&quot;C00948205&quot;</td><td>2021-07-09 00:00:00</td><td>&quot;A&quot;</td><td>2018</td><td>5200</td><td>&quot;s4&quot;</td></tr><tr><td>&quot;C00948205&quot;</td><td>2021-07-09 00:00:00</td><td>&quot;A&quot;</td><td>2018</td><td>5350</td><td>&quot;d20181231&quot;</td></tr><tr><td>&quot;C00948205&quot;</td><td>2021-07-09 00:00:00</td><td>&quot;A&quot;</td><td>2018</td><td>5905</td><td>&quot;d20210120&quot;</td></tr><tr><td>&quot;C00948205&quot;</td><td>2021-07-09 00:00:00</td><td>&quot;A&quot;</td><td>2019</td><td>5200</td><td>&quot;s0&quot;</td></tr><tr><td>&quot;C00948205&quot;</td><td>2021-07-09 00:00:00</td><td>&quot;A&quot;</td><td>2019</td><td>5350</td><td>&quot;d20191231&quot;</td></tr></tbody></table></div>"
      ],
      "text/plain": [
       "shape: (5, 6)\n",
       "┌───────────┬─────────────────────┬──────┬───────────────┬───────────┬───────────┐\n",
       "│ ws_id     ┆ point_date          ┆ freq ┆ fiscal_period ┆ item_code ┆ value     │\n",
       "│ ---       ┆ ---                 ┆ ---  ┆ ---           ┆ ---       ┆ ---       │\n",
       "│ str       ┆ datetime[ns]        ┆ str  ┆ i64           ┆ i64       ┆ str       │\n",
       "╞═══════════╪═════════════════════╪══════╪═══════════════╪═══════════╪═══════════╡\n",
       "│ C00948205 ┆ 2021-07-09 00:00:00 ┆ A    ┆ 2018          ┆ 5200      ┆ s4        │\n",
       "│ C00948205 ┆ 2021-07-09 00:00:00 ┆ A    ┆ 2018          ┆ 5350      ┆ d20181231 │\n",
       "│ C00948205 ┆ 2021-07-09 00:00:00 ┆ A    ┆ 2018          ┆ 5905      ┆ d20210120 │\n",
       "│ C00948205 ┆ 2021-07-09 00:00:00 ┆ A    ┆ 2019          ┆ 5200      ┆ s0        │\n",
       "│ C00948205 ┆ 2021-07-09 00:00:00 ┆ A    ┆ 2019          ┆ 5350      ┆ d20191231 │\n",
       "└───────────┴─────────────────────┴──────┴───────────────┴───────────┴───────────┘"
      ]
     },
     "execution_count": 40,
     "metadata": {},
     "output_type": "execute_result"
    }
   ],
   "source": [
    "import polars as pl\n",
    "\n",
    "file_path = \"data/interim/worldscope/WSMetaData_f_20250131.parquet\"\n",
    "\n",
    "# Lazily scan the file, then fetch the first 5 rows.\n",
    "df = pl.scan_parquet(file_path).fetch(5)\n",
    "\n",
    "# Display the result\n",
    "df\n"
   ]
  },
  {
   "cell_type": "code",
   "execution_count": 41,
   "id": "45d01f72-779b-4598-ae43-d957f4bfa135",
   "metadata": {},
   "outputs": [
    {
     "name": "stderr",
     "output_type": "stream",
     "text": [
      "/tmp/ipykernel_3615719/731523601.py:6: DeprecationWarning: `LazyFrame.fetch` is deprecated. `LazyFrame.fetch` is deprecated; use `LazyFrame.collect` instead, in conjunction with a call to `head`.\n",
      "  df = pl.scan_parquet(file_path).fetch(5)\n"
     ]
    },
    {
     "data": {
      "text/html": [
       "<div><style>\n",
       ".dataframe > thead > tr,\n",
       ".dataframe > tbody > tr {\n",
       "  text-align: right;\n",
       "  white-space: pre-wrap;\n",
       "}\n",
       "</style>\n",
       "<small>shape: (5, 4)</small><table border=\"1\" class=\"dataframe\"><thead><tr><th>ws_id</th><th>point_date</th><th>item_code</th><th>value</th></tr><tr><td>str</td><td>datetime[ns]</td><td>i64</td><td>str</td></tr></thead><tbody><tr><td>&quot;C00948205&quot;</td><td>2021-07-31 00:00:00</td><td>55560</td><td>&quot;3.33&quot;</td></tr><tr><td>&quot;C00948205&quot;</td><td>2021-07-31 00:00:00</td><td>55561</td><td>&quot;d20210730&quot;</td></tr><tr><td>&quot;C00948205&quot;</td><td>2021-07-31 00:00:00</td><td>55562</td><td>&quot;8.45&quot;</td></tr><tr><td>&quot;C00948205&quot;</td><td>2021-07-31 00:00:00</td><td>55563</td><td>&quot;d20210709&quot;</td></tr><tr><td>&quot;C00948205&quot;</td><td>2021-07-31 00:00:00</td><td>55564</td><td>&quot;2.85&quot;</td></tr></tbody></table></div>"
      ],
      "text/plain": [
       "shape: (5, 4)\n",
       "┌───────────┬─────────────────────┬───────────┬───────────┐\n",
       "│ ws_id     ┆ point_date          ┆ item_code ┆ value     │\n",
       "│ ---       ┆ ---                 ┆ ---       ┆ ---       │\n",
       "│ str       ┆ datetime[ns]        ┆ i64       ┆ str       │\n",
       "╞═══════════╪═════════════════════╪═══════════╪═══════════╡\n",
       "│ C00948205 ┆ 2021-07-31 00:00:00 ┆ 55560     ┆ 3.33      │\n",
       "│ C00948205 ┆ 2021-07-31 00:00:00 ┆ 55561     ┆ d20210730 │\n",
       "│ C00948205 ┆ 2021-07-31 00:00:00 ┆ 55562     ┆ 8.45      │\n",
       "│ C00948205 ┆ 2021-07-31 00:00:00 ┆ 55563     ┆ d20210709 │\n",
       "│ C00948205 ┆ 2021-07-31 00:00:00 ┆ 55564     ┆ 2.85      │\n",
       "└───────────┴─────────────────────┴───────────┴───────────┘"
      ]
     },
     "execution_count": 41,
     "metadata": {},
     "output_type": "execute_result"
    }
   ],
   "source": [
    "import polars as pl\n",
    "\n",
    "file_path = \"data/interim/worldscope/WSMonthlyPricing_f_20250131.parquet\"\n",
    "\n",
    "# Lazily scan the file, then fetch the first 5 rows.\n",
    "df = pl.scan_parquet(file_path).fetch(5)\n",
    "\n",
    "# Display the result\n",
    "df\n"
   ]
  },
  {
   "cell_type": "code",
   "execution_count": 42,
   "id": "abc5e43a-0904-4d0d-9885-a03aabc72e94",
   "metadata": {},
   "outputs": [
    {
     "name": "stderr",
     "output_type": "stream",
     "text": [
      "/tmp/ipykernel_3615719/3560279245.py:6: DeprecationWarning: `LazyFrame.fetch` is deprecated. `LazyFrame.fetch` is deprecated; use `LazyFrame.collect` instead, in conjunction with a call to `head`.\n",
      "  df = pl.scan_parquet(file_path).fetch(5)\n"
     ]
    },
    {
     "data": {
      "text/html": [
       "<div><style>\n",
       ".dataframe > thead > tr,\n",
       ".dataframe > tbody > tr {\n",
       "  text-align: right;\n",
       "  white-space: pre-wrap;\n",
       "}\n",
       "</style>\n",
       "<small>shape: (5, 5)</small><table border=\"1\" class=\"dataframe\"><thead><tr><th>ws_id</th><th>point_date</th><th>freq</th><th>item_code</th><th>value</th></tr><tr><td>str</td><td>datetime[ns]</td><td>str</td><td>i64</td><td>str</td></tr></thead><tbody><tr><td>&quot;C02500770&quot;</td><td>1995-12-29 00:00:00</td><td>&quot;A&quot;</td><td>55558</td><td>&quot;s1994&quot;</td></tr><tr><td>&quot;C02500770&quot;</td><td>1995-12-29 00:00:00</td><td>&quot;A&quot;</td><td>55559</td><td>&quot;s1994&quot;</td></tr><tr><td>&quot;C02500770&quot;</td><td>1996-05-03 00:00:00</td><td>&quot;A&quot;</td><td>55558</td><td>&quot;s1995&quot;</td></tr><tr><td>&quot;C02500770&quot;</td><td>1996-05-03 00:00:00</td><td>&quot;A&quot;</td><td>55559</td><td>&quot;s1995&quot;</td></tr><tr><td>&quot;C02500770&quot;</td><td>1998-07-03 00:00:00</td><td>&quot;A&quot;</td><td>55558</td><td>&quot;s1997&quot;</td></tr></tbody></table></div>"
      ],
      "text/plain": [
       "shape: (5, 5)\n",
       "┌───────────┬─────────────────────┬──────┬───────────┬───────┐\n",
       "│ ws_id     ┆ point_date          ┆ freq ┆ item_code ┆ value │\n",
       "│ ---       ┆ ---                 ┆ ---  ┆ ---       ┆ ---   │\n",
       "│ str       ┆ datetime[ns]        ┆ str  ┆ i64       ┆ str   │\n",
       "╞═══════════╪═════════════════════╪══════╪═══════════╪═══════╡\n",
       "│ C02500770 ┆ 1995-12-29 00:00:00 ┆ A    ┆ 55558     ┆ s1994 │\n",
       "│ C02500770 ┆ 1995-12-29 00:00:00 ┆ A    ┆ 55559     ┆ s1994 │\n",
       "│ C02500770 ┆ 1996-05-03 00:00:00 ┆ A    ┆ 55558     ┆ s1995 │\n",
       "│ C02500770 ┆ 1996-05-03 00:00:00 ┆ A    ┆ 55559     ┆ s1995 │\n",
       "│ C02500770 ┆ 1998-07-03 00:00:00 ┆ A    ┆ 55558     ┆ s1997 │\n",
       "└───────────┴─────────────────────┴──────┴───────────┴───────┘"
      ]
     },
     "execution_count": 42,
     "metadata": {},
     "output_type": "execute_result"
    }
   ],
   "source": [
    "import polars as pl\n",
    "\n",
    "file_path = \"data/interim/worldscope/WSReportedPrd_f_20250131.parquet\"\n",
    "\n",
    "# Lazily scan the file, then fetch the first 5 rows.\n",
    "df = pl.scan_parquet(file_path).fetch(5)\n",
    "\n",
    "# Display the result\n",
    "df\n"
   ]
  },
  {
   "cell_type": "code",
   "execution_count": 43,
   "id": "797278fe-f84f-4fca-baff-b1d1f37a71ac",
   "metadata": {},
   "outputs": [
    {
     "name": "stderr",
     "output_type": "stream",
     "text": [
      "/tmp/ipykernel_3615719/2689290181.py:6: DeprecationWarning: `LazyFrame.fetch` is deprecated. `LazyFrame.fetch` is deprecated; use `LazyFrame.collect` instead, in conjunction with a call to `head`.\n",
      "  df = pl.scan_parquet(file_path).fetch(5)\n"
     ]
    },
    {
     "data": {
      "text/html": [
       "<div><style>\n",
       ".dataframe > thead > tr,\n",
       ".dataframe > tbody > tr {\n",
       "  text-align: right;\n",
       "  white-space: pre-wrap;\n",
       "}\n",
       "</style>\n",
       "<small>shape: (5, 8)</small><table border=\"1\" class=\"dataframe\"><thead><tr><th>ws_id</th><th>point_date</th><th>freq</th><th>fiscal_period</th><th>segment_type</th><th>segment_id</th><th>item_code</th><th>value</th></tr><tr><td>str</td><td>datetime[ns]</td><td>str</td><td>i64</td><td>str</td><td>i64</td><td>i64</td><td>str</td></tr></thead><tbody><tr><td>&quot;C02520200&quot;</td><td>2000-03-03 00:00:00</td><td>&quot;A&quot;</td><td>1997</td><td>&quot;P&quot;</td><td>1</td><td>59500</td><td>&quot;&#x27;Steel and rolled products&quot;</td></tr><tr><td>&quot;C02520200&quot;</td><td>2000-03-03 00:00:00</td><td>&quot;A&quot;</td><td>1997</td><td>&quot;P&quot;</td><td>1</td><td>59501</td><td>&quot;198.02624&quot;</td></tr><tr><td>&quot;C02520200&quot;</td><td>2000-03-03 00:00:00</td><td>&quot;A&quot;</td><td>1997</td><td>&quot;P&quot;</td><td>1</td><td>59502</td><td>&quot;14.918064&quot;</td></tr><tr><td>&quot;C02520200&quot;</td><td>2000-03-03 00:00:00</td><td>&quot;A&quot;</td><td>1997</td><td>&quot;P&quot;</td><td>1</td><td>59503</td><td>&quot;520.717893&quot;</td></tr><tr><td>&quot;C02520200&quot;</td><td>2000-03-03 00:00:00</td><td>&quot;A&quot;</td><td>1997</td><td>&quot;P&quot;</td><td>1</td><td>59505</td><td>&quot;24.790256&quot;</td></tr></tbody></table></div>"
      ],
      "text/plain": [
       "shape: (5, 8)\n",
       "┌───────────┬─────────────┬──────┬─────────────┬─────────────┬────────────┬───────────┬────────────┐\n",
       "│ ws_id     ┆ point_date  ┆ freq ┆ fiscal_peri ┆ segment_typ ┆ segment_id ┆ item_code ┆ value      │\n",
       "│ ---       ┆ ---         ┆ ---  ┆ od          ┆ e           ┆ ---        ┆ ---       ┆ ---        │\n",
       "│ str       ┆ datetime[ns ┆ str  ┆ ---         ┆ ---         ┆ i64        ┆ i64       ┆ str        │\n",
       "│           ┆ ]           ┆      ┆ i64         ┆ str         ┆            ┆           ┆            │\n",
       "╞═══════════╪═════════════╪══════╪═════════════╪═════════════╪════════════╪═══════════╪════════════╡\n",
       "│ C02520200 ┆ 2000-03-03  ┆ A    ┆ 1997        ┆ P           ┆ 1          ┆ 59500     ┆ 'Steel and │\n",
       "│           ┆ 00:00:00    ┆      ┆             ┆             ┆            ┆           ┆ rolled     │\n",
       "│           ┆             ┆      ┆             ┆             ┆            ┆           ┆ products   │\n",
       "│ C02520200 ┆ 2000-03-03  ┆ A    ┆ 1997        ┆ P           ┆ 1          ┆ 59501     ┆ 198.02624  │\n",
       "│           ┆ 00:00:00    ┆      ┆             ┆             ┆            ┆           ┆            │\n",
       "│ C02520200 ┆ 2000-03-03  ┆ A    ┆ 1997        ┆ P           ┆ 1          ┆ 59502     ┆ 14.918064  │\n",
       "│           ┆ 00:00:00    ┆      ┆             ┆             ┆            ┆           ┆            │\n",
       "│ C02520200 ┆ 2000-03-03  ┆ A    ┆ 1997        ┆ P           ┆ 1          ┆ 59503     ┆ 520.717893 │\n",
       "│           ┆ 00:00:00    ┆      ┆             ┆             ┆            ┆           ┆            │\n",
       "│ C02520200 ┆ 2000-03-03  ┆ A    ┆ 1997        ┆ P           ┆ 1          ┆ 59505     ┆ 24.790256  │\n",
       "│           ┆ 00:00:00    ┆      ┆             ┆             ┆            ┆           ┆            │\n",
       "└───────────┴─────────────┴──────┴─────────────┴─────────────┴────────────┴───────────┴────────────┘"
      ]
     },
     "execution_count": 43,
     "metadata": {},
     "output_type": "execute_result"
    }
   ],
   "source": [
    "import polars as pl\n",
    "\n",
    "file_path = \"data/interim/worldscope/WSSegment_f_20250131.parquet\"\n",
    "\n",
    "# Lazily scan the file, then fetch the first 5 rows.\n",
    "df = pl.scan_parquet(file_path).fetch(5)\n",
    "\n",
    "# Display the result\n",
    "df\n"
   ]
  },
  {
   "cell_type": "code",
   "execution_count": 45,
   "id": "9a5bb84a-0e18-4986-b112-e17985f1c177",
   "metadata": {},
   "outputs": [
    {
     "name": "stderr",
     "output_type": "stream",
     "text": [
      "/tmp/ipykernel_3615719/1532898185.py:6: DeprecationWarning: `LazyFrame.fetch` is deprecated. `LazyFrame.fetch` is deprecated; use `LazyFrame.collect` instead, in conjunction with a call to `head`.\n",
      "  df = pl.scan_parquet(file_path).fetch(5)\n"
     ]
    },
    {
     "data": {
      "text/html": [
       "<div><style>\n",
       ".dataframe > thead > tr,\n",
       ".dataframe > tbody > tr {\n",
       "  text-align: right;\n",
       "  white-space: pre-wrap;\n",
       "}\n",
       "</style>\n",
       "<small>shape: (5, 6)</small><table border=\"1\" class=\"dataframe\"><thead><tr><th>ws_id</th><th>point_date</th><th>freq</th><th>fiscal_period</th><th>item_code</th><th>note</th></tr><tr><td>str</td><td>datetime[ns]</td><td>str</td><td>i64</td><td>i64</td><td>str</td></tr></thead><tbody><tr><td>&quot;C00948205&quot;</td><td>2021-07-09 00:00:00</td><td>&quot;A&quot;</td><td>2018</td><td>10030</td><td>&quot;&#x27;Q&quot;</td></tr><tr><td>&quot;C00948205&quot;</td><td>2021-07-09 00:00:00</td><td>&quot;A&quot;</td><td>2019</td><td>10030</td><td>&quot;&#x27;Q&quot;</td></tr><tr><td>&quot;C00948205&quot;</td><td>2021-07-09 00:00:00</td><td>&quot;A&quot;</td><td>2020</td><td>10030</td><td>&quot;&#x27;Q&quot;</td></tr><tr><td>&quot;C00948205&quot;</td><td>2021-07-28 00:00:00</td><td>&quot;A&quot;</td><td>2019</td><td>5301</td><td>&quot;&#x27;N&quot;</td></tr><tr><td>&quot;C00948205&quot;</td><td>2021-07-28 00:00:00</td><td>&quot;A&quot;</td><td>2020</td><td>5301</td><td>&quot;&#x27;N&quot;</td></tr></tbody></table></div>"
      ],
      "text/plain": [
       "shape: (5, 6)\n",
       "┌───────────┬─────────────────────┬──────┬───────────────┬───────────┬──────┐\n",
       "│ ws_id     ┆ point_date          ┆ freq ┆ fiscal_period ┆ item_code ┆ note │\n",
       "│ ---       ┆ ---                 ┆ ---  ┆ ---           ┆ ---       ┆ ---  │\n",
       "│ str       ┆ datetime[ns]        ┆ str  ┆ i64           ┆ i64       ┆ str  │\n",
       "╞═══════════╪═════════════════════╪══════╪═══════════════╪═══════════╪══════╡\n",
       "│ C00948205 ┆ 2021-07-09 00:00:00 ┆ A    ┆ 2018          ┆ 10030     ┆ 'Q   │\n",
       "│ C00948205 ┆ 2021-07-09 00:00:00 ┆ A    ┆ 2019          ┆ 10030     ┆ 'Q   │\n",
       "│ C00948205 ┆ 2021-07-09 00:00:00 ┆ A    ┆ 2020          ┆ 10030     ┆ 'Q   │\n",
       "│ C00948205 ┆ 2021-07-28 00:00:00 ┆ A    ┆ 2019          ┆ 5301      ┆ 'N   │\n",
       "│ C00948205 ┆ 2021-07-28 00:00:00 ┆ A    ┆ 2020          ┆ 5301      ┆ 'N   │\n",
       "└───────────┴─────────────────────┴──────┴───────────────┴───────────┴──────┘"
      ]
     },
     "execution_count": 45,
     "metadata": {},
     "output_type": "execute_result"
    }
   ],
   "source": [
    "import polars as pl\n",
    "\n",
    "file_path = \"data/interim/worldscope/WSFVFootnote_f_20250131.parquet\"\n",
    "\n",
    "# Lazily scan the file, then fetch the first 5 rows.\n",
    "df = pl.scan_parquet(file_path).fetch(5)\n",
    "\n",
    "# Display the result\n",
    "df\n"
   ]
  },
  {
   "cell_type": "code",
   "execution_count": 9,
   "id": "9b47bfce-013c-42e3-9df5-acd5179b4757",
   "metadata": {},
   "outputs": [
    {
     "name": "stderr",
     "output_type": "stream",
     "text": [
      "/tmp/ipykernel_3807771/2803592334.py:6: DeprecationWarning: `LazyFrame.fetch` is deprecated. `LazyFrame.fetch` is deprecated; use `LazyFrame.collect` instead, in conjunction with a call to `head`.\n",
      "  df = pl.scan_parquet(file_path).fetch(5)\n"
     ]
    },
    {
     "data": {
      "text/html": [
       "<div><style>\n",
       ".dataframe > thead > tr,\n",
       ".dataframe > tbody > tr {\n",
       "  text-align: right;\n",
       "  white-space: pre-wrap;\n",
       "}\n",
       "</style>\n",
       "<small>shape: (5, 12)</small><table border=\"1\" class=\"dataframe\"><thead><tr><th>ws_id</th><th>point_date</th><th>freq</th><th>fiscal_period</th><th>item_code</th><th>value</th><th>cal1_55350</th><th>cal1_57034</th><th>cal1_55352</th><th>cal1_55555</th><th>cal2_55558</th><th>cal2_55559</th></tr><tr><td>str</td><td>datetime[ns]</td><td>str</td><td>i64</td><td>i64</td><td>str</td><td>str</td><td>str</td><td>str</td><td>str</td><td>str</td><td>str</td></tr></thead><tbody><tr><td>&quot;C00948205&quot;</td><td>2021-07-09 00:00:00</td><td>&quot;A&quot;</td><td>2018</td><td>5202</td><td>&quot;-.21167&quot;</td><td>&quot;d20181231&quot;</td><td>null</td><td>&quot;d20181231&quot;</td><td>&quot;s2018&quot;</td><td>null</td><td>null</td></tr><tr><td>&quot;C00948205&quot;</td><td>2021-07-09 00:00:00</td><td>&quot;A&quot;</td><td>2018</td><td>5301</td><td>&quot;12.96711&quot;</td><td>&quot;d20181231&quot;</td><td>null</td><td>&quot;d20181231&quot;</td><td>&quot;s2018&quot;</td><td>null</td><td>null</td></tr><tr><td>&quot;C00948205&quot;</td><td>2021-07-09 00:00:00</td><td>&quot;A&quot;</td><td>2018</td><td>5491</td><td>&quot;-.00195&quot;</td><td>&quot;d20181231&quot;</td><td>null</td><td>&quot;d20181231&quot;</td><td>&quot;s2018&quot;</td><td>null</td><td>null</td></tr><tr><td>&quot;C00948205&quot;</td><td>2021-07-09 00:00:00</td><td>&quot;A&quot;</td><td>2018</td><td>5502</td><td>&quot;-.13273&quot;</td><td>&quot;d20181231&quot;</td><td>null</td><td>&quot;d20181231&quot;</td><td>&quot;s2018&quot;</td><td>null</td><td>null</td></tr><tr><td>&quot;C00948205&quot;</td><td>2021-07-09 00:00:00</td><td>&quot;A&quot;</td><td>2018</td><td>5508</td><td>&quot;0&quot;</td><td>&quot;d20181231&quot;</td><td>null</td><td>&quot;d20181231&quot;</td><td>&quot;s2018&quot;</td><td>null</td><td>null</td></tr></tbody></table></div>"
      ],
      "text/plain": [
       "shape: (5, 12)\n",
       "┌───────────┬────────────┬──────┬────────────┬───┬────────────┬────────────┬───────────┬───────────┐\n",
       "│ ws_id     ┆ point_date ┆ freq ┆ fiscal_per ┆ … ┆ cal1_55352 ┆ cal1_55555 ┆ cal2_5555 ┆ cal2_5555 │\n",
       "│ ---       ┆ ---        ┆ ---  ┆ iod        ┆   ┆ ---        ┆ ---        ┆ 8         ┆ 9         │\n",
       "│ str       ┆ datetime[n ┆ str  ┆ ---        ┆   ┆ str        ┆ str        ┆ ---       ┆ ---       │\n",
       "│           ┆ s]         ┆      ┆ i64        ┆   ┆            ┆            ┆ str       ┆ str       │\n",
       "╞═══════════╪════════════╪══════╪════════════╪═══╪════════════╪════════════╪═══════════╪═══════════╡\n",
       "│ C00948205 ┆ 2021-07-09 ┆ A    ┆ 2018       ┆ … ┆ d20181231  ┆ s2018      ┆ null      ┆ null      │\n",
       "│           ┆ 00:00:00   ┆      ┆            ┆   ┆            ┆            ┆           ┆           │\n",
       "│ C00948205 ┆ 2021-07-09 ┆ A    ┆ 2018       ┆ … ┆ d20181231  ┆ s2018      ┆ null      ┆ null      │\n",
       "│           ┆ 00:00:00   ┆      ┆            ┆   ┆            ┆            ┆           ┆           │\n",
       "│ C00948205 ┆ 2021-07-09 ┆ A    ┆ 2018       ┆ … ┆ d20181231  ┆ s2018      ┆ null      ┆ null      │\n",
       "│           ┆ 00:00:00   ┆      ┆            ┆   ┆            ┆            ┆           ┆           │\n",
       "│ C00948205 ┆ 2021-07-09 ┆ A    ┆ 2018       ┆ … ┆ d20181231  ┆ s2018      ┆ null      ┆ null      │\n",
       "│           ┆ 00:00:00   ┆      ┆            ┆   ┆            ┆            ┆           ┆           │\n",
       "│ C00948205 ┆ 2021-07-09 ┆ A    ┆ 2018       ┆ … ┆ d20181231  ┆ s2018      ┆ null      ┆ null      │\n",
       "│           ┆ 00:00:00   ┆      ┆            ┆   ┆            ┆            ┆           ┆           │\n",
       "└───────────┴────────────┴──────┴────────────┴───┴────────────┴────────────┴───────────┴───────────┘"
      ]
     },
     "execution_count": 9,
     "metadata": {},
     "output_type": "execute_result"
    }
   ],
   "source": [
    "import polars as pl\n",
    "\n",
    "file_path = \"data/interim/WSFV_merged_20250131.parquet\"\n",
    "\n",
    "# Lazily scan the file, then fetch the first 5 rows.\n",
    "df = pl.scan_parquet(file_path).fetch(5)\n",
    "\n",
    "# Display the result\n",
    "df\n"
   ]
  },
  {
   "cell_type": "code",
   "execution_count": 7,
   "id": "fb190bd5-1416-4173-bbd2-de076ff1b7ce",
   "metadata": {},
   "outputs": [
    {
     "name": "stdout",
     "output_type": "stream",
     "text": [
      "Current working directory: /home/jovyan/work/fpool1/pseidel/Paul_International_Anomalies/my_project/international-anomalies\n",
      "Looking for file at: /home/jovyan/work/fpool1/pseidel/Paul_International_Anomalies/my_project/international-anomalies/data/interim/WSFV_merged_20250131.parquet\n",
      "DataFrame preview:\n"
     ]
    },
    {
     "data": {
      "text/html": [
       "<div><style>\n",
       ".dataframe > thead > tr,\n",
       ".dataframe > tbody > tr {\n",
       "  text-align: right;\n",
       "  white-space: pre-wrap;\n",
       "}\n",
       "</style>\n",
       "<small>shape: (5, 12)</small><table border=\"1\" class=\"dataframe\"><thead><tr><th>ws_id</th><th>point_date</th><th>freq</th><th>fiscal_period</th><th>item_code</th><th>value</th><th>cal1_55350</th><th>cal1_57034</th><th>cal1_55352</th><th>cal1_55555</th><th>cal2_55558</th><th>cal2_55559</th></tr><tr><td>str</td><td>datetime[ns]</td><td>str</td><td>i64</td><td>i64</td><td>str</td><td>str</td><td>str</td><td>str</td><td>str</td><td>str</td><td>str</td></tr></thead><tbody><tr><td>&quot;C00948205&quot;</td><td>2021-07-09 00:00:00</td><td>&quot;A&quot;</td><td>2018</td><td>5202</td><td>&quot;-.21167&quot;</td><td>&quot;d20181231&quot;</td><td>null</td><td>&quot;d20181231&quot;</td><td>&quot;s2018&quot;</td><td>null</td><td>null</td></tr><tr><td>&quot;C00948205&quot;</td><td>2021-07-09 00:00:00</td><td>&quot;A&quot;</td><td>2018</td><td>5301</td><td>&quot;12.96711&quot;</td><td>&quot;d20181231&quot;</td><td>null</td><td>&quot;d20181231&quot;</td><td>&quot;s2018&quot;</td><td>null</td><td>null</td></tr><tr><td>&quot;C00948205&quot;</td><td>2021-07-09 00:00:00</td><td>&quot;A&quot;</td><td>2018</td><td>5491</td><td>&quot;-.00195&quot;</td><td>&quot;d20181231&quot;</td><td>null</td><td>&quot;d20181231&quot;</td><td>&quot;s2018&quot;</td><td>null</td><td>null</td></tr><tr><td>&quot;C00948205&quot;</td><td>2021-07-09 00:00:00</td><td>&quot;A&quot;</td><td>2018</td><td>5502</td><td>&quot;-.13273&quot;</td><td>&quot;d20181231&quot;</td><td>null</td><td>&quot;d20181231&quot;</td><td>&quot;s2018&quot;</td><td>null</td><td>null</td></tr><tr><td>&quot;C00948205&quot;</td><td>2021-07-09 00:00:00</td><td>&quot;A&quot;</td><td>2018</td><td>5508</td><td>&quot;0&quot;</td><td>&quot;d20181231&quot;</td><td>null</td><td>&quot;d20181231&quot;</td><td>&quot;s2018&quot;</td><td>null</td><td>null</td></tr></tbody></table></div>"
      ],
      "text/plain": [
       "shape: (5, 12)\n",
       "┌───────────┬────────────┬──────┬────────────┬───┬────────────┬────────────┬───────────┬───────────┐\n",
       "│ ws_id     ┆ point_date ┆ freq ┆ fiscal_per ┆ … ┆ cal1_55352 ┆ cal1_55555 ┆ cal2_5555 ┆ cal2_5555 │\n",
       "│ ---       ┆ ---        ┆ ---  ┆ iod        ┆   ┆ ---        ┆ ---        ┆ 8         ┆ 9         │\n",
       "│ str       ┆ datetime[n ┆ str  ┆ ---        ┆   ┆ str        ┆ str        ┆ ---       ┆ ---       │\n",
       "│           ┆ s]         ┆      ┆ i64        ┆   ┆            ┆            ┆ str       ┆ str       │\n",
       "╞═══════════╪════════════╪══════╪════════════╪═══╪════════════╪════════════╪═══════════╪═══════════╡\n",
       "│ C00948205 ┆ 2021-07-09 ┆ A    ┆ 2018       ┆ … ┆ d20181231  ┆ s2018      ┆ null      ┆ null      │\n",
       "│           ┆ 00:00:00   ┆      ┆            ┆   ┆            ┆            ┆           ┆           │\n",
       "│ C00948205 ┆ 2021-07-09 ┆ A    ┆ 2018       ┆ … ┆ d20181231  ┆ s2018      ┆ null      ┆ null      │\n",
       "│           ┆ 00:00:00   ┆      ┆            ┆   ┆            ┆            ┆           ┆           │\n",
       "│ C00948205 ┆ 2021-07-09 ┆ A    ┆ 2018       ┆ … ┆ d20181231  ┆ s2018      ┆ null      ┆ null      │\n",
       "│           ┆ 00:00:00   ┆      ┆            ┆   ┆            ┆            ┆           ┆           │\n",
       "│ C00948205 ┆ 2021-07-09 ┆ A    ┆ 2018       ┆ … ┆ d20181231  ┆ s2018      ┆ null      ┆ null      │\n",
       "│           ┆ 00:00:00   ┆      ┆            ┆   ┆            ┆            ┆           ┆           │\n",
       "│ C00948205 ┆ 2021-07-09 ┆ A    ┆ 2018       ┆ … ┆ d20181231  ┆ s2018      ┆ null      ┆ null      │\n",
       "│           ┆ 00:00:00   ┆      ┆            ┆   ┆            ┆            ┆           ┆           │\n",
       "└───────────┴────────────┴──────┴────────────┴───┴────────────┴────────────┴───────────┴───────────┘"
      ]
     },
     "metadata": {},
     "output_type": "display_data"
    },
    {
     "name": "stdout",
     "output_type": "stream",
     "text": [
      "Last two columns: ['cal2_55558', 'cal2_55559']\n",
      "\n",
      "===== Overview for column: cal2_55558 =====\n",
      "Null count: 543337062\n",
      "Unique values count: 260\n",
      "Top 10 frequent values:\n"
     ]
    },
    {
     "data": {
      "text/html": [
       "<div><style>\n",
       ".dataframe > thead > tr,\n",
       ".dataframe > tbody > tr {\n",
       "  text-align: right;\n",
       "  white-space: pre-wrap;\n",
       "}\n",
       "</style>\n",
       "<small>shape: (10, 2)</small><table border=\"1\" class=\"dataframe\"><thead><tr><th>cal2_55558</th><th>frequency</th></tr><tr><td>str</td><td>u32</td></tr></thead><tbody><tr><td>null</td><td>543337062</td></tr><tr><td>&quot;s2022&quot;</td><td>7004244</td></tr><tr><td>&quot;s2023&quot;</td><td>6865967</td></tr><tr><td>&quot;s2021&quot;</td><td>6803276</td></tr><tr><td>&quot;s2009&quot;</td><td>6723899</td></tr><tr><td>&quot;s2020&quot;</td><td>6662529</td></tr><tr><td>&quot;s2014&quot;</td><td>6491591</td></tr><tr><td>&quot;s8042&quot;</td><td>6382004</td></tr><tr><td>&quot;s2019&quot;</td><td>6335814</td></tr><tr><td>&quot;s2017&quot;</td><td>6105247</td></tr></tbody></table></div>"
      ],
      "text/plain": [
       "shape: (10, 2)\n",
       "┌────────────┬───────────┐\n",
       "│ cal2_55558 ┆ frequency │\n",
       "│ ---        ┆ ---       │\n",
       "│ str        ┆ u32       │\n",
       "╞════════════╪═══════════╡\n",
       "│ null       ┆ 543337062 │\n",
       "│ s2022      ┆ 7004244   │\n",
       "│ s2023      ┆ 6865967   │\n",
       "│ s2021      ┆ 6803276   │\n",
       "│ s2009      ┆ 6723899   │\n",
       "│ s2020      ┆ 6662529   │\n",
       "│ s2014      ┆ 6491591   │\n",
       "│ s8042      ┆ 6382004   │\n",
       "│ s2019      ┆ 6335814   │\n",
       "│ s2017      ┆ 6105247   │\n",
       "└────────────┴───────────┘"
      ]
     },
     "metadata": {},
     "output_type": "display_data"
    },
    {
     "name": "stdout",
     "output_type": "stream",
     "text": [
      "\n",
      "===== Overview for column: cal2_55559 =====\n",
      "Null count: 511407500\n",
      "Unique values count: 260\n",
      "Top 10 frequent values:\n"
     ]
    },
    {
     "data": {
      "text/html": [
       "<div><style>\n",
       ".dataframe > thead > tr,\n",
       ".dataframe > tbody > tr {\n",
       "  text-align: right;\n",
       "  white-space: pre-wrap;\n",
       "}\n",
       "</style>\n",
       "<small>shape: (10, 2)</small><table border=\"1\" class=\"dataframe\"><thead><tr><th>cal2_55559</th><th>frequency</th></tr><tr><td>str</td><td>u32</td></tr></thead><tbody><tr><td>null</td><td>511407500</td></tr><tr><td>&quot;s2022&quot;</td><td>7903554</td></tr><tr><td>&quot;s2023&quot;</td><td>7813117</td></tr><tr><td>&quot;s2021&quot;</td><td>7669550</td></tr><tr><td>&quot;s2020&quot;</td><td>7523365</td></tr><tr><td>&quot;s2019&quot;</td><td>7063505</td></tr><tr><td>&quot;s2017&quot;</td><td>6927228</td></tr><tr><td>&quot;s2016&quot;</td><td>6886089</td></tr><tr><td>&quot;s2018&quot;</td><td>6867442</td></tr><tr><td>&quot;s2015&quot;</td><td>6599556</td></tr></tbody></table></div>"
      ],
      "text/plain": [
       "shape: (10, 2)\n",
       "┌────────────┬───────────┐\n",
       "│ cal2_55559 ┆ frequency │\n",
       "│ ---        ┆ ---       │\n",
       "│ str        ┆ u32       │\n",
       "╞════════════╪═══════════╡\n",
       "│ null       ┆ 511407500 │\n",
       "│ s2022      ┆ 7903554   │\n",
       "│ s2023      ┆ 7813117   │\n",
       "│ s2021      ┆ 7669550   │\n",
       "│ s2020      ┆ 7523365   │\n",
       "│ s2019      ┆ 7063505   │\n",
       "│ s2017      ┆ 6927228   │\n",
       "│ s2016      ┆ 6886089   │\n",
       "│ s2018      ┆ 6867442   │\n",
       "│ s2015      ┆ 6599556   │\n",
       "└────────────┴───────────┘"
      ]
     },
     "metadata": {},
     "output_type": "display_data"
    }
   ],
   "source": [
    "# %% [code]\n",
    "import os\n",
    "from pathlib import Path\n",
    "import polars as pl\n",
    "\n",
    "# 1. Print the current working directory to see where the notebook is running from.\n",
    "print(\"Current working directory:\", os.getcwd())\n",
    "\n",
    "# 2. Define the relative path to your file.\n",
    "# Adjust this path if your file lives in a different directory relative to the current working directory.\n",
    "file_path = Path(\"data/interim/WSFV_merged_20250131.parquet\")\n",
    "\n",
    "# Print the absolute file path that will be used.\n",
    "print(\"Looking for file at:\", file_path.resolve())\n",
    "\n",
    "# 3. Check if the file exists.\n",
    "if not file_path.exists():\n",
    "    print(f\"Error: File not found at {file_path.resolve()}\")\n",
    "    print(\"Please adjust the file path so it points to the correct location of your Parquet file.\")\n",
    "else:\n",
    "    # 4. Read the Parquet file into a Polars DataFrame.\n",
    "    df = pl.read_parquet(file_path)\n",
    "    \n",
    "    # Display a preview of the DataFrame.\n",
    "    print(\"DataFrame preview:\")\n",
    "    display(df.head())\n",
    "\n",
    "    # Identify the last two columns dynamically.\n",
    "    last_two_cols = df.columns[-2:]\n",
    "    print(\"Last two columns:\", last_two_cols)\n",
    "\n",
    "    # %% [code]\n",
    "    # For each of the last two columns, display an overview of its distribution.\n",
    "    for col in last_two_cols:\n",
    "        print(f\"\\n===== Overview for column: {col} =====\")\n",
    "        \n",
    "        # Count the number of null values in the column.\n",
    "        null_count = df.select(pl.col(col).null_count()).item()\n",
    "        print(f\"Null count: {null_count}\")\n",
    "        \n",
    "        # Count the number of unique values in the column.\n",
    "        unique_count = df.select(pl.col(col).unique().count()).item()\n",
    "        print(f\"Unique values count: {unique_count}\")\n",
    "        \n",
    "        # Get top 10 most frequent values using pl.len() to count rows per group.\n",
    "        freq_distribution = (\n",
    "            df.group_by(col)\n",
    "            .agg(pl.len().alias(\"frequency\"))\n",
    "            .sort(\"frequency\", descending=True)\n",
    "            .head(10)\n",
    "        )\n",
    "        print(\"Top 10 frequent values:\")\n",
    "        display(freq_distribution)\n"
   ]
  },
  {
   "cell_type": "code",
   "execution_count": 6,
   "id": "cf8d764a-2a2d-44b0-bf24-249b53c2b45c",
   "metadata": {},
   "outputs": [
    {
     "name": "stdout",
     "output_type": "stream",
     "text": [
      "/home/jovyan/work/fpool1/pseidel/Paul_International_Anomalies/my_project/international-anomalies\n"
     ]
    }
   ],
   "source": [
    "cd /home/jovyan/work/fpool1/pseidel/Paul_International_Anomalies/my_project/international-anomalies/"
   ]
  },
  {
   "cell_type": "code",
   "execution_count": 10,
   "id": "d2b9a5d6-09ec-4948-ba53-627a81b95458",
   "metadata": {},
   "outputs": [
    {
     "name": "stdout",
     "output_type": "stream",
     "text": [
      "Filtered file created at: /home/jovyan/work/fpool1/pseidel/Paul_International_Anomalies/my_project/international-anomalies/data/interim/WSFV_merged_20250131_filtered.parquet\n",
      "Original shape: (944835699, 12), Filtered shape: (490978988, 12)\n"
     ]
    }
   ],
   "source": [
    "import polars as pl\n",
    "from pathlib import Path\n",
    "\n",
    "def main():\n",
    "    # Path to the original Parquet file\n",
    "    input_file = Path(\"data/interim/WSFV_merged_20250131.parquet\")\n",
    "    # Path for the filtered Parquet file\n",
    "    output_file = input_file.parent / \"WSFV_merged_20250131_filtered.parquet\"\n",
    "\n",
    "    # Read the Parquet file\n",
    "    df = pl.read_parquet(input_file)\n",
    "\n",
    "    # Filter out rows where both columns are \"0\"\n",
    "    # (If they are numeric columns, compare with == 0 instead)\n",
    "    df_filtered = df.filter(\n",
    "        ~((pl.col(\"cal2_55558\") == \"0\") & (pl.col(\"cal2_55559\") == \"0\"))\n",
    "    )\n",
    "\n",
    "    # Write the filtered DataFrame to a new Parquet file\n",
    "    df_filtered.write_parquet(output_file)\n",
    "    print(f\"Filtered file created at: {output_file.resolve()}\")\n",
    "    print(f\"Original shape: {df.shape}, Filtered shape: {df_filtered.shape}\")\n",
    "\n",
    "if __name__ == \"__main__\":\n",
    "    main()\n"
   ]
  },
  {
   "cell_type": "code",
   "execution_count": 11,
   "id": "c357e524-a432-4ff2-a8f9-190c81554c92",
   "metadata": {},
   "outputs": [
    {
     "name": "stderr",
     "output_type": "stream",
     "text": [
      "/tmp/ipykernel_3807771/3788189794.py:6: DeprecationWarning: `LazyFrame.fetch` is deprecated. `LazyFrame.fetch` is deprecated; use `LazyFrame.collect` instead, in conjunction with a call to `head`.\n",
      "  df = pl.scan_parquet(file_path).fetch(5)\n"
     ]
    },
    {
     "data": {
      "text/html": [
       "<div><style>\n",
       ".dataframe > thead > tr,\n",
       ".dataframe > tbody > tr {\n",
       "  text-align: right;\n",
       "  white-space: pre-wrap;\n",
       "}\n",
       "</style>\n",
       "<small>shape: (5, 12)</small><table border=\"1\" class=\"dataframe\"><thead><tr><th>ws_id</th><th>point_date</th><th>freq</th><th>fiscal_period</th><th>item_code</th><th>value</th><th>cal1_55350</th><th>cal1_57034</th><th>cal1_55352</th><th>cal1_55555</th><th>cal2_55558</th><th>cal2_55559</th></tr><tr><td>str</td><td>datetime[ns]</td><td>str</td><td>i64</td><td>i64</td><td>str</td><td>str</td><td>str</td><td>str</td><td>str</td><td>str</td><td>str</td></tr></thead><tbody><tr><td>&quot;C02500770&quot;</td><td>1995-12-29 00:00:00</td><td>&quot;A&quot;</td><td>1992</td><td>1001</td><td>&quot;1707.334371&quot;</td><td>&quot;d19921231&quot;</td><td>&quot;s3&quot;</td><td>&quot;d19921231&quot;</td><td>&quot;s1992&quot;</td><td>&quot;s1994&quot;</td><td>&quot;s1994&quot;</td></tr><tr><td>&quot;C02500770&quot;</td><td>1995-12-29 00:00:00</td><td>&quot;A&quot;</td><td>1992</td><td>1051</td><td>&quot;1415.675687&quot;</td><td>&quot;d19921231&quot;</td><td>&quot;s3&quot;</td><td>&quot;d19921231&quot;</td><td>&quot;s1992&quot;</td><td>&quot;s1994&quot;</td><td>&quot;s1994&quot;</td></tr><tr><td>&quot;C02500770&quot;</td><td>1995-12-29 00:00:00</td><td>&quot;A&quot;</td><td>1992</td><td>1075</td><td>&quot;11.207&quot;</td><td>&quot;d19921231&quot;</td><td>&quot;s3&quot;</td><td>&quot;d19921231&quot;</td><td>&quot;s1992&quot;</td><td>&quot;s1994&quot;</td><td>&quot;s1994&quot;</td></tr><tr><td>&quot;C02500770&quot;</td><td>1995-12-29 00:00:00</td><td>&quot;A&quot;</td><td>1992</td><td>1100</td><td>&quot;253.564267&quot;</td><td>&quot;d19921231&quot;</td><td>&quot;s3&quot;</td><td>&quot;d19921231&quot;</td><td>&quot;s1992&quot;</td><td>&quot;s1994&quot;</td><td>&quot;s1994&quot;</td></tr><tr><td>&quot;C02500770&quot;</td><td>1995-12-29 00:00:00</td><td>&quot;A&quot;</td><td>1992</td><td>1101</td><td>&quot;171.617279&quot;</td><td>&quot;d19921231&quot;</td><td>&quot;s3&quot;</td><td>&quot;d19921231&quot;</td><td>&quot;s1992&quot;</td><td>&quot;s1994&quot;</td><td>&quot;s1994&quot;</td></tr></tbody></table></div>"
      ],
      "text/plain": [
       "shape: (5, 12)\n",
       "┌───────────┬────────────┬──────┬────────────┬───┬────────────┬────────────┬───────────┬───────────┐\n",
       "│ ws_id     ┆ point_date ┆ freq ┆ fiscal_per ┆ … ┆ cal1_55352 ┆ cal1_55555 ┆ cal2_5555 ┆ cal2_5555 │\n",
       "│ ---       ┆ ---        ┆ ---  ┆ iod        ┆   ┆ ---        ┆ ---        ┆ 8         ┆ 9         │\n",
       "│ str       ┆ datetime[n ┆ str  ┆ ---        ┆   ┆ str        ┆ str        ┆ ---       ┆ ---       │\n",
       "│           ┆ s]         ┆      ┆ i64        ┆   ┆            ┆            ┆ str       ┆ str       │\n",
       "╞═══════════╪════════════╪══════╪════════════╪═══╪════════════╪════════════╪═══════════╪═══════════╡\n",
       "│ C02500770 ┆ 1995-12-29 ┆ A    ┆ 1992       ┆ … ┆ d19921231  ┆ s1992      ┆ s1994     ┆ s1994     │\n",
       "│           ┆ 00:00:00   ┆      ┆            ┆   ┆            ┆            ┆           ┆           │\n",
       "│ C02500770 ┆ 1995-12-29 ┆ A    ┆ 1992       ┆ … ┆ d19921231  ┆ s1992      ┆ s1994     ┆ s1994     │\n",
       "│           ┆ 00:00:00   ┆      ┆            ┆   ┆            ┆            ┆           ┆           │\n",
       "│ C02500770 ┆ 1995-12-29 ┆ A    ┆ 1992       ┆ … ┆ d19921231  ┆ s1992      ┆ s1994     ┆ s1994     │\n",
       "│           ┆ 00:00:00   ┆      ┆            ┆   ┆            ┆            ┆           ┆           │\n",
       "│ C02500770 ┆ 1995-12-29 ┆ A    ┆ 1992       ┆ … ┆ d19921231  ┆ s1992      ┆ s1994     ┆ s1994     │\n",
       "│           ┆ 00:00:00   ┆      ┆            ┆   ┆            ┆            ┆           ┆           │\n",
       "│ C02500770 ┆ 1995-12-29 ┆ A    ┆ 1992       ┆ … ┆ d19921231  ┆ s1992      ┆ s1994     ┆ s1994     │\n",
       "│           ┆ 00:00:00   ┆      ┆            ┆   ┆            ┆            ┆           ┆           │\n",
       "└───────────┴────────────┴──────┴────────────┴───┴────────────┴────────────┴───────────┴───────────┘"
      ]
     },
     "execution_count": 11,
     "metadata": {},
     "output_type": "execute_result"
    }
   ],
   "source": [
    "import polars as pl\n",
    "\n",
    "file_path = \"data/interim/WSFV_merged_20250131_filtered.parquet\"\n",
    "\n",
    "# Lazily scan the file, then fetch the first 5 rows.\n",
    "df = pl.scan_parquet(file_path).fetch(5)\n",
    "\n",
    "# Display the result\n",
    "df\n"
   ]
  },
  {
   "cell_type": "code",
   "execution_count": 12,
   "id": "cad7fd31-f051-4ee9-bfd9-c53ad8b1286b",
   "metadata": {},
   "outputs": [
    {
     "name": "stderr",
     "output_type": "stream",
     "text": [
      "/tmp/ipykernel_3807771/4106986893.py:6: DeprecationWarning: `LazyFrame.fetch` is deprecated. `LazyFrame.fetch` is deprecated; use `LazyFrame.collect` instead, in conjunction with a call to `head`.\n",
      "  df = pl.scan_parquet(file_path).fetch(5)\n"
     ]
    },
    {
     "data": {
      "text/html": [
       "<div><style>\n",
       ".dataframe > thead > tr,\n",
       ".dataframe > tbody > tr {\n",
       "  text-align: right;\n",
       "  white-space: pre-wrap;\n",
       "}\n",
       "</style>\n",
       "<small>shape: (5, 12)</small><table border=\"1\" class=\"dataframe\"><thead><tr><th>ws_id</th><th>point_date</th><th>freq</th><th>fiscal_period</th><th>item_code</th><th>value</th><th>cal1_55350</th><th>cal1_57034</th><th>cal1_55352</th><th>cal1_55555</th><th>cal2_55558</th><th>cal2_55559</th></tr><tr><td>str</td><td>datetime[ns]</td><td>str</td><td>i64</td><td>i64</td><td>str</td><td>str</td><td>str</td><td>str</td><td>str</td><td>str</td><td>str</td></tr></thead><tbody><tr><td>&quot;C02500770&quot;</td><td>1995-12-29 00:00:00</td><td>&quot;A&quot;</td><td>1994</td><td>1001</td><td>&quot;2263.705199&quot;</td><td>&quot;d19941231&quot;</td><td>&quot;s3&quot;</td><td>&quot;d19941231&quot;</td><td>&quot;s1994&quot;</td><td>&quot;s1994&quot;</td><td>&quot;s1994&quot;</td></tr><tr><td>&quot;C02500770&quot;</td><td>1995-12-29 00:00:00</td><td>&quot;A&quot;</td><td>1994</td><td>1051</td><td>&quot;1968.910031&quot;</td><td>&quot;d19941231&quot;</td><td>&quot;s3&quot;</td><td>&quot;d19941231&quot;</td><td>&quot;s1994&quot;</td><td>&quot;s1994&quot;</td><td>&quot;s1994&quot;</td></tr><tr><td>&quot;C02500770&quot;</td><td>1995-12-29 00:00:00</td><td>&quot;A&quot;</td><td>1994</td><td>1075</td><td>&quot;13.255&quot;</td><td>&quot;d19941231&quot;</td><td>&quot;s3&quot;</td><td>&quot;d19941231&quot;</td><td>&quot;s1994&quot;</td><td>&quot;s1994&quot;</td><td>&quot;s1994&quot;</td></tr><tr><td>&quot;C02500770&quot;</td><td>1995-12-29 00:00:00</td><td>&quot;A&quot;</td><td>1994</td><td>1100</td><td>&quot;205.248388&quot;</td><td>&quot;d19941231&quot;</td><td>&quot;s3&quot;</td><td>&quot;d19941231&quot;</td><td>&quot;s1994&quot;</td><td>&quot;s1994&quot;</td><td>&quot;s1994&quot;</td></tr><tr><td>&quot;C02500770&quot;</td><td>1995-12-29 00:00:00</td><td>&quot;A&quot;</td><td>1994</td><td>1101</td><td>&quot;129.874835&quot;</td><td>&quot;d19941231&quot;</td><td>&quot;s3&quot;</td><td>&quot;d19941231&quot;</td><td>&quot;s1994&quot;</td><td>&quot;s1994&quot;</td><td>&quot;s1994&quot;</td></tr></tbody></table></div>"
      ],
      "text/plain": [
       "shape: (5, 12)\n",
       "┌───────────┬────────────┬──────┬────────────┬───┬────────────┬────────────┬───────────┬───────────┐\n",
       "│ ws_id     ┆ point_date ┆ freq ┆ fiscal_per ┆ … ┆ cal1_55352 ┆ cal1_55555 ┆ cal2_5555 ┆ cal2_5555 │\n",
       "│ ---       ┆ ---        ┆ ---  ┆ iod        ┆   ┆ ---        ┆ ---        ┆ 8         ┆ 9         │\n",
       "│ str       ┆ datetime[n ┆ str  ┆ ---        ┆   ┆ str        ┆ str        ┆ ---       ┆ ---       │\n",
       "│           ┆ s]         ┆      ┆ i64        ┆   ┆            ┆            ┆ str       ┆ str       │\n",
       "╞═══════════╪════════════╪══════╪════════════╪═══╪════════════╪════════════╪═══════════╪═══════════╡\n",
       "│ C02500770 ┆ 1995-12-29 ┆ A    ┆ 1994       ┆ … ┆ d19941231  ┆ s1994      ┆ s1994     ┆ s1994     │\n",
       "│           ┆ 00:00:00   ┆      ┆            ┆   ┆            ┆            ┆           ┆           │\n",
       "│ C02500770 ┆ 1995-12-29 ┆ A    ┆ 1994       ┆ … ┆ d19941231  ┆ s1994      ┆ s1994     ┆ s1994     │\n",
       "│           ┆ 00:00:00   ┆      ┆            ┆   ┆            ┆            ┆           ┆           │\n",
       "│ C02500770 ┆ 1995-12-29 ┆ A    ┆ 1994       ┆ … ┆ d19941231  ┆ s1994      ┆ s1994     ┆ s1994     │\n",
       "│           ┆ 00:00:00   ┆      ┆            ┆   ┆            ┆            ┆           ┆           │\n",
       "│ C02500770 ┆ 1995-12-29 ┆ A    ┆ 1994       ┆ … ┆ d19941231  ┆ s1994      ┆ s1994     ┆ s1994     │\n",
       "│           ┆ 00:00:00   ┆      ┆            ┆   ┆            ┆            ┆           ┆           │\n",
       "│ C02500770 ┆ 1995-12-29 ┆ A    ┆ 1994       ┆ … ┆ d19941231  ┆ s1994      ┆ s1994     ┆ s1994     │\n",
       "│           ┆ 00:00:00   ┆      ┆            ┆   ┆            ┆            ┆           ┆           │\n",
       "└───────────┴────────────┴──────┴────────────┴───┴────────────┴────────────┴───────────┴───────────┘"
      ]
     },
     "execution_count": 12,
     "metadata": {},
     "output_type": "execute_result"
    }
   ],
   "source": [
    "import polars as pl\n",
    "\n",
    "file_path = \"data/interim/WSFV_merged_20250131_final.parquet\"\n",
    "\n",
    "# Lazily scan the file, then fetch the first 5 rows.\n",
    "df = pl.scan_parquet(file_path).fetch(5)\n",
    "\n",
    "# Display the result\n",
    "df\n"
   ]
  },
  {
   "cell_type": "code",
   "execution_count": 14,
   "id": "0d8a6d25-e009-4ba8-b385-a0991a89de7a",
   "metadata": {},
   "outputs": [
    {
     "name": "stderr",
     "output_type": "stream",
     "text": [
      "/tmp/ipykernel_3807771/1247834888.py:6: DeprecationWarning: `LazyFrame.fetch` is deprecated. `LazyFrame.fetch` is deprecated; use `LazyFrame.collect` instead, in conjunction with a call to `head`.\n",
      "  df = pl.scan_parquet(file_path).fetch(5)\n"
     ]
    },
    {
     "data": {
      "text/html": [
       "<div><style>\n",
       ".dataframe > thead > tr,\n",
       ".dataframe > tbody > tr {\n",
       "  text-align: right;\n",
       "  white-space: pre-wrap;\n",
       "}\n",
       "</style>\n",
       "<small>shape: (5, 8)</small><table border=\"1\" class=\"dataframe\"><thead><tr><th>ws_id</th><th>point_date</th><th>freq</th><th>fiscal_period</th><th>item_code</th><th>value</th><th>cal1_55350</th><th>cal2_55559</th></tr><tr><td>str</td><td>datetime[ns]</td><td>str</td><td>i64</td><td>i64</td><td>str</td><td>str</td><td>str</td></tr></thead><tbody><tr><td>&quot;C02500770&quot;</td><td>1995-12-29 00:00:00</td><td>&quot;A&quot;</td><td>1994</td><td>1001</td><td>&quot;2263.705199&quot;</td><td>&quot;d19941231&quot;</td><td>&quot;s1994&quot;</td></tr><tr><td>&quot;C02500770&quot;</td><td>1995-12-29 00:00:00</td><td>&quot;A&quot;</td><td>1994</td><td>1051</td><td>&quot;1968.910031&quot;</td><td>&quot;d19941231&quot;</td><td>&quot;s1994&quot;</td></tr><tr><td>&quot;C02500770&quot;</td><td>1995-12-29 00:00:00</td><td>&quot;A&quot;</td><td>1994</td><td>1075</td><td>&quot;13.255&quot;</td><td>&quot;d19941231&quot;</td><td>&quot;s1994&quot;</td></tr><tr><td>&quot;C02500770&quot;</td><td>1995-12-29 00:00:00</td><td>&quot;A&quot;</td><td>1994</td><td>1100</td><td>&quot;205.248388&quot;</td><td>&quot;d19941231&quot;</td><td>&quot;s1994&quot;</td></tr><tr><td>&quot;C02500770&quot;</td><td>1995-12-29 00:00:00</td><td>&quot;A&quot;</td><td>1994</td><td>1101</td><td>&quot;129.874835&quot;</td><td>&quot;d19941231&quot;</td><td>&quot;s1994&quot;</td></tr></tbody></table></div>"
      ],
      "text/plain": [
       "shape: (5, 8)\n",
       "┌───────────┬─────────────┬──────┬─────────────┬───────────┬─────────────┬────────────┬────────────┐\n",
       "│ ws_id     ┆ point_date  ┆ freq ┆ fiscal_peri ┆ item_code ┆ value       ┆ cal1_55350 ┆ cal2_55559 │\n",
       "│ ---       ┆ ---         ┆ ---  ┆ od          ┆ ---       ┆ ---         ┆ ---        ┆ ---        │\n",
       "│ str       ┆ datetime[ns ┆ str  ┆ ---         ┆ i64       ┆ str         ┆ str        ┆ str        │\n",
       "│           ┆ ]           ┆      ┆ i64         ┆           ┆             ┆            ┆            │\n",
       "╞═══════════╪═════════════╪══════╪═════════════╪═══════════╪═════════════╪════════════╪════════════╡\n",
       "│ C02500770 ┆ 1995-12-29  ┆ A    ┆ 1994        ┆ 1001      ┆ 2263.705199 ┆ d19941231  ┆ s1994      │\n",
       "│           ┆ 00:00:00    ┆      ┆             ┆           ┆             ┆            ┆            │\n",
       "│ C02500770 ┆ 1995-12-29  ┆ A    ┆ 1994        ┆ 1051      ┆ 1968.910031 ┆ d19941231  ┆ s1994      │\n",
       "│           ┆ 00:00:00    ┆      ┆             ┆           ┆             ┆            ┆            │\n",
       "│ C02500770 ┆ 1995-12-29  ┆ A    ┆ 1994        ┆ 1075      ┆ 13.255      ┆ d19941231  ┆ s1994      │\n",
       "│           ┆ 00:00:00    ┆      ┆             ┆           ┆             ┆            ┆            │\n",
       "│ C02500770 ┆ 1995-12-29  ┆ A    ┆ 1994        ┆ 1100      ┆ 205.248388  ┆ d19941231  ┆ s1994      │\n",
       "│           ┆ 00:00:00    ┆      ┆             ┆           ┆             ┆            ┆            │\n",
       "│ C02500770 ┆ 1995-12-29  ┆ A    ┆ 1994        ┆ 1101      ┆ 129.874835  ┆ d19941231  ┆ s1994      │\n",
       "│           ┆ 00:00:00    ┆      ┆             ┆           ┆             ┆            ┆            │\n",
       "└───────────┴─────────────┴──────┴─────────────┴───────────┴─────────────┴────────────┴────────────┘"
      ]
     },
     "execution_count": 14,
     "metadata": {},
     "output_type": "execute_result"
    }
   ],
   "source": [
    "import polars as pl\n",
    "\n",
    "file_path = \"data/interim/Worldscope_clean/WSFV_merged_20250131_final_no_cols.parquet\"\n",
    "\n",
    "# Lazily scan the file, then fetch the first 5 rows.\n",
    "df = pl.scan_parquet(file_path).fetch(5)\n",
    "\n",
    "# Display the result\n",
    "df\n"
   ]
  },
  {
   "cell_type": "code",
   "execution_count": 16,
   "id": "bfe25051-1831-4eb0-b918-9340829e4474",
   "metadata": {},
   "outputs": [
    {
     "name": "stdout",
     "output_type": "stream",
     "text": [
      "→ CSV file written to: /home/jovyan/work/fpool1/pseidel/Paul_International_Anomalies/my_project/international-anomalies/data/interim/Worldscope_clean/WSFV_merged_20250131_final_no_cols.csv\n",
      "\n",
      "--- First 10 000 rows preview ---\n",
      "shape: (10_000, 8)\n",
      "┌───────────┬─────────────┬──────┬─────────────┬───────────┬─────────────┬────────────┬────────────┐\n",
      "│ ws_id     ┆ point_date  ┆ freq ┆ fiscal_peri ┆ item_code ┆ value       ┆ cal1_55350 ┆ cal2_55559 │\n",
      "│ ---       ┆ ---         ┆ ---  ┆ od          ┆ ---       ┆ ---         ┆ ---        ┆ ---        │\n",
      "│ str       ┆ datetime[ns ┆ str  ┆ ---         ┆ i64       ┆ str         ┆ str        ┆ str        │\n",
      "│           ┆ ]           ┆      ┆ i64         ┆           ┆             ┆            ┆            │\n",
      "╞═══════════╪═════════════╪══════╪═════════════╪═══════════╪═════════════╪════════════╪════════════╡\n",
      "│ C02500770 ┆ 1995-12-29  ┆ A    ┆ 1994        ┆ 1001      ┆ 2263.705199 ┆ d19941231  ┆ s1994      │\n",
      "│           ┆ 00:00:00    ┆      ┆             ┆           ┆             ┆            ┆            │\n",
      "│ C02500770 ┆ 1995-12-29  ┆ A    ┆ 1994        ┆ 1051      ┆ 1968.910031 ┆ d19941231  ┆ s1994      │\n",
      "│           ┆ 00:00:00    ┆      ┆             ┆           ┆             ┆            ┆            │\n",
      "│ C02500770 ┆ 1995-12-29  ┆ A    ┆ 1994        ┆ 1075      ┆ 13.255      ┆ d19941231  ┆ s1994      │\n",
      "│           ┆ 00:00:00    ┆      ┆             ┆           ┆             ┆            ┆            │\n",
      "│ C02500770 ┆ 1995-12-29  ┆ A    ┆ 1994        ┆ 1100      ┆ 205.248388  ┆ d19941231  ┆ s1994      │\n",
      "│           ┆ 00:00:00    ┆      ┆             ┆           ┆             ┆            ┆            │\n",
      "│ C02500770 ┆ 1995-12-29  ┆ A    ┆ 1994        ┆ 1101      ┆ 129.874835  ┆ d19941231  ┆ s1994      │\n",
      "│           ┆ 00:00:00    ┆      ┆             ┆           ┆             ┆            ┆            │\n",
      "│ …         ┆ …           ┆ …    ┆ …           ┆ …         ┆ …           ┆ …          ┆ …          │\n",
      "│ C02520230 ┆ 2013-09-11  ┆ A    ┆ 2013        ┆ 3273      ┆ 90.50154    ┆ d20130630  ┆ s2013      │\n",
      "│           ┆ 00:00:00    ┆      ┆             ┆           ┆             ┆            ┆            │\n",
      "│ C02520230 ┆ 2013-09-11  ┆ A    ┆ 2013        ┆ 3351      ┆ 2753.880664 ┆ d20130630  ┆ s2013      │\n",
      "│           ┆ 00:00:00    ┆      ┆             ┆           ┆             ┆            ┆            │\n",
      "│ C02520230 ┆ 2013-09-11  ┆ A    ┆ 2013        ┆ 3401      ┆ 0           ┆ d20130630  ┆ s2013      │\n",
      "│           ┆ 00:00:00    ┆      ┆             ┆           ┆             ┆            ┆            │\n",
      "│ C02520230 ┆ 2013-09-11  ┆ A    ┆ 2013        ┆ 3426      ┆ 212.930322  ┆ d20130630  ┆ s2013      │\n",
      "│           ┆ 00:00:00    ┆      ┆             ┆           ┆             ┆            ┆            │\n",
      "│ C02520230 ┆ 2013-09-11  ┆ A    ┆ 2013        ┆ 3451      ┆ 0           ┆ d20130630  ┆ s2013      │\n",
      "│           ┆ 00:00:00    ┆      ┆             ┆           ┆             ┆            ┆            │\n",
      "└───────────┴─────────────┴──────┴─────────────┴───────────┴─────────────┴────────────┴────────────┘\n"
     ]
    }
   ],
   "source": [
    "# write_first_10000.py\n",
    "\n",
    "import polars as pl\n",
    "from pathlib import Path\n",
    "\n",
    "def main():\n",
    "    # Paths\n",
    "    parquet_path = Path(\"data/interim/Worldscope_clean/WSFV_merged_20250131_final_no_cols.parquet\")\n",
    "    csv_path     = parquet_path.with_suffix(\".first10000.csv\")\n",
    "\n",
    "    # Load, take first 10k rows, and write those to CSV\n",
    "    df = pl.read_parquet(parquet_path)\n",
    "    df.head(10_000).write_csv(csv_path)\n",
    "\n",
    "    print(f\"Wrote first 10 000 rows to: {csv_path.resolve()}\")\n",
    "\n",
    "if __name__ == \"__main__\":\n",
    "    main()\n"
   ]
  },
  {
   "cell_type": "code",
   "execution_count": 18,
   "id": "285c0d72-b1ab-45ac-b82f-8edd6207f4d2",
   "metadata": {},
   "outputs": [
    {
     "name": "stderr",
     "output_type": "stream",
     "text": [
      "/tmp/ipykernel_3807771/3578315570.py:6: DeprecationWarning: `LazyFrame.fetch` is deprecated. `LazyFrame.fetch` is deprecated; use `LazyFrame.collect` instead, in conjunction with a call to `head`.\n",
      "  df = pl.scan_parquet(file_path).fetch(5)\n"
     ]
    },
    {
     "data": {
      "text/html": [
       "<div><style>\n",
       ".dataframe > thead > tr,\n",
       ".dataframe > tbody > tr {\n",
       "  text-align: right;\n",
       "  white-space: pre-wrap;\n",
       "}\n",
       "</style>\n",
       "<small>shape: (5, 8)</small><table border=\"1\" class=\"dataframe\"><thead><tr><th>ws_id</th><th>point_date</th><th>freq</th><th>fiscal_period</th><th>item_code</th><th>value</th><th>cal1_55350</th><th>cal2_55559</th></tr><tr><td>str</td><td>datetime[ns]</td><td>str</td><td>i64</td><td>i64</td><td>str</td><td>str</td><td>str</td></tr></thead><tbody><tr><td>&quot;C02500770&quot;</td><td>1995-12-29 00:00:00</td><td>&quot;A&quot;</td><td>1994</td><td>1001</td><td>&quot;2263.705199&quot;</td><td>&quot;d19941231&quot;</td><td>&quot;s1994&quot;</td></tr><tr><td>&quot;C02500770&quot;</td><td>1996-05-03 00:00:00</td><td>&quot;A&quot;</td><td>1995</td><td>1001</td><td>&quot;1447.33116&quot;</td><td>&quot;d19951231&quot;</td><td>&quot;s1995&quot;</td></tr><tr><td>&quot;C02500770&quot;</td><td>1998-07-03 00:00:00</td><td>&quot;A&quot;</td><td>1997</td><td>1001</td><td>&quot;693.936079&quot;</td><td>&quot;d19971231&quot;</td><td>&quot;s1997&quot;</td></tr><tr><td>&quot;C02500770&quot;</td><td>1999-10-01 00:00:00</td><td>&quot;A&quot;</td><td>1998</td><td>1001</td><td>&quot;609.279252&quot;</td><td>&quot;d19981231&quot;</td><td>&quot;s1998&quot;</td></tr><tr><td>&quot;C02500770&quot;</td><td>2000-05-19 00:00:00</td><td>&quot;A&quot;</td><td>1999</td><td>1001</td><td>&quot;559.817319&quot;</td><td>&quot;d19991231&quot;</td><td>&quot;s1999&quot;</td></tr></tbody></table></div>"
      ],
      "text/plain": [
       "shape: (5, 8)\n",
       "┌───────────┬─────────────┬──────┬─────────────┬───────────┬─────────────┬────────────┬────────────┐\n",
       "│ ws_id     ┆ point_date  ┆ freq ┆ fiscal_peri ┆ item_code ┆ value       ┆ cal1_55350 ┆ cal2_55559 │\n",
       "│ ---       ┆ ---         ┆ ---  ┆ od          ┆ ---       ┆ ---         ┆ ---        ┆ ---        │\n",
       "│ str       ┆ datetime[ns ┆ str  ┆ ---         ┆ i64       ┆ str         ┆ str        ┆ str        │\n",
       "│           ┆ ]           ┆      ┆ i64         ┆           ┆             ┆            ┆            │\n",
       "╞═══════════╪═════════════╪══════╪═════════════╪═══════════╪═════════════╪════════════╪════════════╡\n",
       "│ C02500770 ┆ 1995-12-29  ┆ A    ┆ 1994        ┆ 1001      ┆ 2263.705199 ┆ d19941231  ┆ s1994      │\n",
       "│           ┆ 00:00:00    ┆      ┆             ┆           ┆             ┆            ┆            │\n",
       "│ C02500770 ┆ 1996-05-03  ┆ A    ┆ 1995        ┆ 1001      ┆ 1447.33116  ┆ d19951231  ┆ s1995      │\n",
       "│           ┆ 00:00:00    ┆      ┆             ┆           ┆             ┆            ┆            │\n",
       "│ C02500770 ┆ 1998-07-03  ┆ A    ┆ 1997        ┆ 1001      ┆ 693.936079  ┆ d19971231  ┆ s1997      │\n",
       "│           ┆ 00:00:00    ┆      ┆             ┆           ┆             ┆            ┆            │\n",
       "│ C02500770 ┆ 1999-10-01  ┆ A    ┆ 1998        ┆ 1001      ┆ 609.279252  ┆ d19981231  ┆ s1998      │\n",
       "│           ┆ 00:00:00    ┆      ┆             ┆           ┆             ┆            ┆            │\n",
       "│ C02500770 ┆ 2000-05-19  ┆ A    ┆ 1999        ┆ 1001      ┆ 559.817319  ┆ d19991231  ┆ s1999      │\n",
       "│           ┆ 00:00:00    ┆      ┆             ┆           ┆             ┆            ┆            │\n",
       "└───────────┴─────────────┴──────┴─────────────┴───────────┴─────────────┴────────────┴────────────┘"
      ]
     },
     "execution_count": 18,
     "metadata": {},
     "output_type": "execute_result"
    }
   ],
   "source": [
    "import polars as pl\n",
    "\n",
    "file_path = \"data/interim/Worldscope_clean_items/WS_item_1001.parquet\"\n",
    "\n",
    "# Lazily scan the file, then fetch the first 5 rows.\n",
    "df = pl.scan_parquet(file_path).fetch(5)\n",
    "\n",
    "# Display the result\n",
    "df\n"
   ]
  },
  {
   "cell_type": "code",
   "execution_count": 20,
   "id": "03a12121-ab73-445a-8f81-cf7bccb6663e",
   "metadata": {},
   "outputs": [
    {
     "name": "stdout",
     "output_type": "stream",
     "text": [
      "1.27.1\n"
     ]
    }
   ],
   "source": [
    "import polars as pl\n",
    "print(pl.__version__)\n"
   ]
  },
  {
   "cell_type": "code",
   "execution_count": 21,
   "id": "ee0adb0f-793b-4582-bec9-ee027f5f0a97",
   "metadata": {},
   "outputs": [
    {
     "name": "stdout",
     "output_type": "stream",
     "text": [
      "['ws_id', 'point_date', 'freq', 'fiscal_period', 'item_code', 'value', 'cal1_55350', 'cal2_55559']\n",
      "[String, Datetime(time_unit='ns', time_zone=None), String, Int64, Int64, String, String, String]\n"
     ]
    }
   ],
   "source": [
    "import polars as pl\n",
    "df = pl.read_parquet(\"data/interim/Worldscope_clean/WSFV_merged_20250131_final_no_cols.parquet\")\n",
    "print(df.columns)\n",
    "print(df.dtypes)\n"
   ]
  },
  {
   "cell_type": "code",
   "execution_count": 24,
   "id": "3ba25bb5-d790-4aba-887f-a79cfb08cf75",
   "metadata": {},
   "outputs": [
    {
     "name": "stderr",
     "output_type": "stream",
     "text": [
      "/tmp/ipykernel_3807771/2664332855.py:6: DeprecationWarning: `LazyFrame.fetch` is deprecated. `LazyFrame.fetch` is deprecated; use `LazyFrame.collect` instead, in conjunction with a call to `head`.\n",
      "  df = pl.scan_parquet(file_path).fetch(5)\n"
     ]
    },
    {
     "data": {
      "text/html": [
       "<div><style>\n",
       ".dataframe > thead > tr,\n",
       ".dataframe > tbody > tr {\n",
       "  text-align: right;\n",
       "  white-space: pre-wrap;\n",
       "}\n",
       "</style>\n",
       "<small>shape: (5, 11)</small><table border=\"1\" class=\"dataframe\"><thead><tr><th>ws_id</th><th>point_date</th><th>freq</th><th>fiscal_period</th><th>item_code</th><th>value</th><th>cal1_55350</th><th>cal2_55559</th><th>fye_date</th><th>pit_date</th><th>ff92_date</th></tr><tr><td>str</td><td>datetime[ns]</td><td>str</td><td>i64</td><td>i64</td><td>str</td><td>str</td><td>str</td><td>date</td><td>date</td><td>date</td></tr></thead><tbody><tr><td>&quot;C02500770&quot;</td><td>1995-12-29 00:00:00</td><td>&quot;A&quot;</td><td>1994</td><td>1001</td><td>&quot;2263.705199&quot;</td><td>&quot;d19941231&quot;</td><td>&quot;s1994&quot;</td><td>1994-12-31</td><td>1995-12-29</td><td>1995-06-30</td></tr><tr><td>&quot;C02500770&quot;</td><td>1995-12-29 00:00:00</td><td>&quot;A&quot;</td><td>1994</td><td>1051</td><td>&quot;1968.910031&quot;</td><td>&quot;d19941231&quot;</td><td>&quot;s1994&quot;</td><td>1994-12-31</td><td>1995-12-29</td><td>1995-06-30</td></tr><tr><td>&quot;C02500770&quot;</td><td>1995-12-29 00:00:00</td><td>&quot;A&quot;</td><td>1994</td><td>1075</td><td>&quot;13.255&quot;</td><td>&quot;d19941231&quot;</td><td>&quot;s1994&quot;</td><td>1994-12-31</td><td>1995-12-29</td><td>1995-06-30</td></tr><tr><td>&quot;C02500770&quot;</td><td>1995-12-29 00:00:00</td><td>&quot;A&quot;</td><td>1994</td><td>1100</td><td>&quot;205.248388&quot;</td><td>&quot;d19941231&quot;</td><td>&quot;s1994&quot;</td><td>1994-12-31</td><td>1995-12-29</td><td>1995-06-30</td></tr><tr><td>&quot;C02500770&quot;</td><td>1995-12-29 00:00:00</td><td>&quot;A&quot;</td><td>1994</td><td>1101</td><td>&quot;129.874835&quot;</td><td>&quot;d19941231&quot;</td><td>&quot;s1994&quot;</td><td>1994-12-31</td><td>1995-12-29</td><td>1995-06-30</td></tr></tbody></table></div>"
      ],
      "text/plain": [
       "shape: (5, 11)\n",
       "┌───────────┬────────────┬──────┬────────────┬───┬────────────┬────────────┬───────────┬───────────┐\n",
       "│ ws_id     ┆ point_date ┆ freq ┆ fiscal_per ┆ … ┆ cal2_55559 ┆ fye_date   ┆ pit_date  ┆ ff92_date │\n",
       "│ ---       ┆ ---        ┆ ---  ┆ iod        ┆   ┆ ---        ┆ ---        ┆ ---       ┆ ---       │\n",
       "│ str       ┆ datetime[n ┆ str  ┆ ---        ┆   ┆ str        ┆ date       ┆ date      ┆ date      │\n",
       "│           ┆ s]         ┆      ┆ i64        ┆   ┆            ┆            ┆           ┆           │\n",
       "╞═══════════╪════════════╪══════╪════════════╪═══╪════════════╪════════════╪═══════════╪═══════════╡\n",
       "│ C02500770 ┆ 1995-12-29 ┆ A    ┆ 1994       ┆ … ┆ s1994      ┆ 1994-12-31 ┆ 1995-12-2 ┆ 1995-06-3 │\n",
       "│           ┆ 00:00:00   ┆      ┆            ┆   ┆            ┆            ┆ 9         ┆ 0         │\n",
       "│ C02500770 ┆ 1995-12-29 ┆ A    ┆ 1994       ┆ … ┆ s1994      ┆ 1994-12-31 ┆ 1995-12-2 ┆ 1995-06-3 │\n",
       "│           ┆ 00:00:00   ┆      ┆            ┆   ┆            ┆            ┆ 9         ┆ 0         │\n",
       "│ C02500770 ┆ 1995-12-29 ┆ A    ┆ 1994       ┆ … ┆ s1994      ┆ 1994-12-31 ┆ 1995-12-2 ┆ 1995-06-3 │\n",
       "│           ┆ 00:00:00   ┆      ┆            ┆   ┆            ┆            ┆ 9         ┆ 0         │\n",
       "│ C02500770 ┆ 1995-12-29 ┆ A    ┆ 1994       ┆ … ┆ s1994      ┆ 1994-12-31 ┆ 1995-12-2 ┆ 1995-06-3 │\n",
       "│           ┆ 00:00:00   ┆      ┆            ┆   ┆            ┆            ┆ 9         ┆ 0         │\n",
       "│ C02500770 ┆ 1995-12-29 ┆ A    ┆ 1994       ┆ … ┆ s1994      ┆ 1994-12-31 ┆ 1995-12-2 ┆ 1995-06-3 │\n",
       "│           ┆ 00:00:00   ┆      ┆            ┆   ┆            ┆            ┆ 9         ┆ 0         │\n",
       "└───────────┴────────────┴──────┴────────────┴───┴────────────┴────────────┴───────────┴───────────┘"
      ]
     },
     "execution_count": 24,
     "metadata": {},
     "output_type": "execute_result"
    }
   ],
   "source": [
    "import polars as pl\n",
    "\n",
    "file_path = \"data/processed/anomalies_worldscope.parquet\"\n",
    "\n",
    "# Lazily scan the file, then fetch the first 5 rows.\n",
    "df = pl.scan_parquet(file_path).fetch(5)\n",
    "\n",
    "# Display the result\n",
    "df\n"
   ]
  },
  {
   "cell_type": "code",
   "execution_count": 23,
   "id": "abf9b464-2848-42af-994d-3122e7aa7237",
   "metadata": {},
   "outputs": [
    {
     "name": "stdout",
     "output_type": "stream",
     "text": [
      "Wrote first 10 000 rows to: /home/jovyan/work/fpool1/pseidel/Paul_International_Anomalies/my_project/international-anomalies/data/processed/anomalies_worldscope.first10000.csv\n"
     ]
    }
   ],
   "source": [
    "# write_first_10000.py\n",
    "\n",
    "import polars as pl\n",
    "from pathlib import Path\n",
    "\n",
    "def main():\n",
    "    # Paths\n",
    "    parquet_path = Path(\"data/processed/anomalies_worldscope.parquet\")\n",
    "    csv_path     = parquet_path.with_suffix(\".first10000.csv\")\n",
    "\n",
    "    # Load, take first 10k rows, and write those to CSV\n",
    "    df = pl.read_parquet(parquet_path)\n",
    "    df.head(10_000).write_csv(csv_path)\n",
    "\n",
    "    print(f\"Wrote first 10 000 rows to: {csv_path.resolve()}\")\n",
    "\n",
    "if __name__ == \"__main__\":\n",
    "    main()\n"
   ]
  },
  {
   "cell_type": "code",
   "execution_count": 25,
   "id": "d136fb57-938c-4320-812f-460357a1a18c",
   "metadata": {},
   "outputs": [
    {
     "name": "stderr",
     "output_type": "stream",
     "text": [
      "/tmp/ipykernel_3807771/2664332855.py:6: DeprecationWarning: `LazyFrame.fetch` is deprecated. `LazyFrame.fetch` is deprecated; use `LazyFrame.collect` instead, in conjunction with a call to `head`.\n",
      "  df = pl.scan_parquet(file_path).fetch(5)\n"
     ]
    },
    {
     "data": {
      "text/html": [
       "<div><style>\n",
       ".dataframe > thead > tr,\n",
       ".dataframe > tbody > tr {\n",
       "  text-align: right;\n",
       "  white-space: pre-wrap;\n",
       "}\n",
       "</style>\n",
       "<small>shape: (5, 11)</small><table border=\"1\" class=\"dataframe\"><thead><tr><th>ws_id</th><th>point_date</th><th>freq</th><th>fiscal_period</th><th>item_code</th><th>value</th><th>cal1_55350</th><th>cal2_55559</th><th>fye_date</th><th>pit_date</th><th>ff92_date</th></tr><tr><td>str</td><td>datetime[ns]</td><td>str</td><td>i64</td><td>i64</td><td>str</td><td>str</td><td>str</td><td>date</td><td>date</td><td>date</td></tr></thead><tbody><tr><td>&quot;C02500770&quot;</td><td>1995-12-29 00:00:00</td><td>&quot;A&quot;</td><td>1994</td><td>1001</td><td>&quot;2263.705199&quot;</td><td>&quot;d19941231&quot;</td><td>&quot;s1994&quot;</td><td>1994-12-31</td><td>1995-12-29</td><td>1995-06-30</td></tr><tr><td>&quot;C02500770&quot;</td><td>1995-12-29 00:00:00</td><td>&quot;A&quot;</td><td>1994</td><td>1051</td><td>&quot;1968.910031&quot;</td><td>&quot;d19941231&quot;</td><td>&quot;s1994&quot;</td><td>1994-12-31</td><td>1995-12-29</td><td>1995-06-30</td></tr><tr><td>&quot;C02500770&quot;</td><td>1995-12-29 00:00:00</td><td>&quot;A&quot;</td><td>1994</td><td>1075</td><td>&quot;13.255&quot;</td><td>&quot;d19941231&quot;</td><td>&quot;s1994&quot;</td><td>1994-12-31</td><td>1995-12-29</td><td>1995-06-30</td></tr><tr><td>&quot;C02500770&quot;</td><td>1995-12-29 00:00:00</td><td>&quot;A&quot;</td><td>1994</td><td>1100</td><td>&quot;205.248388&quot;</td><td>&quot;d19941231&quot;</td><td>&quot;s1994&quot;</td><td>1994-12-31</td><td>1995-12-29</td><td>1995-06-30</td></tr><tr><td>&quot;C02500770&quot;</td><td>1995-12-29 00:00:00</td><td>&quot;A&quot;</td><td>1994</td><td>1101</td><td>&quot;129.874835&quot;</td><td>&quot;d19941231&quot;</td><td>&quot;s1994&quot;</td><td>1994-12-31</td><td>1995-12-29</td><td>1995-06-30</td></tr></tbody></table></div>"
      ],
      "text/plain": [
       "shape: (5, 11)\n",
       "┌───────────┬────────────┬──────┬────────────┬───┬────────────┬────────────┬───────────┬───────────┐\n",
       "│ ws_id     ┆ point_date ┆ freq ┆ fiscal_per ┆ … ┆ cal2_55559 ┆ fye_date   ┆ pit_date  ┆ ff92_date │\n",
       "│ ---       ┆ ---        ┆ ---  ┆ iod        ┆   ┆ ---        ┆ ---        ┆ ---       ┆ ---       │\n",
       "│ str       ┆ datetime[n ┆ str  ┆ ---        ┆   ┆ str        ┆ date       ┆ date      ┆ date      │\n",
       "│           ┆ s]         ┆      ┆ i64        ┆   ┆            ┆            ┆           ┆           │\n",
       "╞═══════════╪════════════╪══════╪════════════╪═══╪════════════╪════════════╪═══════════╪═══════════╡\n",
       "│ C02500770 ┆ 1995-12-29 ┆ A    ┆ 1994       ┆ … ┆ s1994      ┆ 1994-12-31 ┆ 1995-12-2 ┆ 1995-06-3 │\n",
       "│           ┆ 00:00:00   ┆      ┆            ┆   ┆            ┆            ┆ 9         ┆ 0         │\n",
       "│ C02500770 ┆ 1995-12-29 ┆ A    ┆ 1994       ┆ … ┆ s1994      ┆ 1994-12-31 ┆ 1995-12-2 ┆ 1995-06-3 │\n",
       "│           ┆ 00:00:00   ┆      ┆            ┆   ┆            ┆            ┆ 9         ┆ 0         │\n",
       "│ C02500770 ┆ 1995-12-29 ┆ A    ┆ 1994       ┆ … ┆ s1994      ┆ 1994-12-31 ┆ 1995-12-2 ┆ 1995-06-3 │\n",
       "│           ┆ 00:00:00   ┆      ┆            ┆   ┆            ┆            ┆ 9         ┆ 0         │\n",
       "│ C02500770 ┆ 1995-12-29 ┆ A    ┆ 1994       ┆ … ┆ s1994      ┆ 1994-12-31 ┆ 1995-12-2 ┆ 1995-06-3 │\n",
       "│           ┆ 00:00:00   ┆      ┆            ┆   ┆            ┆            ┆ 9         ┆ 0         │\n",
       "│ C02500770 ┆ 1995-12-29 ┆ A    ┆ 1994       ┆ … ┆ s1994      ┆ 1994-12-31 ┆ 1995-12-2 ┆ 1995-06-3 │\n",
       "│           ┆ 00:00:00   ┆      ┆            ┆   ┆            ┆            ┆ 9         ┆ 0         │\n",
       "└───────────┴────────────┴──────┴────────────┴───┴────────────┴────────────┴───────────┴───────────┘"
      ]
     },
     "execution_count": 25,
     "metadata": {},
     "output_type": "execute_result"
    }
   ],
   "source": [
    "import polars as pl\n",
    "\n",
    "file_path = \"data/processed/anomalies_worldscope.parquet\"\n",
    "\n",
    "# Lazily scan the file, then fetch the first 5 rows.\n",
    "df = pl.scan_parquet(file_path).fetch(5)\n",
    "\n",
    "# Display the result\n",
    "df\n"
   ]
  },
  {
   "cell_type": "code",
   "execution_count": 26,
   "id": "26b779cf-f05d-4ac5-9040-fc84f06d8e7a",
   "metadata": {},
   "outputs": [
    {
     "ename": "SyntaxError",
     "evalue": "invalid syntax (763256720.py, line 1)",
     "output_type": "error",
     "traceback": [
      "\u001b[0;36m  Cell \u001b[0;32mIn[26], line 1\u001b[0;36m\u001b[0m\n\u001b[0;31m    ls data/processed\u001b[0m\n\u001b[0m       ^\u001b[0m\n\u001b[0;31mSyntaxError\u001b[0m\u001b[0;31m:\u001b[0m invalid syntax\n"
     ]
    }
   ],
   "source": [
    "import polars as pl\n",
    "df = pl.read_parquet(\"data/processed/anomalies_worldscope.parquet\")\n",
    "print(df.head())\n"
   ]
  },
  {
   "cell_type": "code",
   "execution_count": null,
   "id": "a14659cf-667b-47ab-b364-96d60dad9e5f",
   "metadata": {},
   "outputs": [],
   "source": []
  }
 ],
 "metadata": {
  "kernelspec": {
   "display_name": "Python 3 (ipykernel)",
   "language": "python",
   "name": "python3"
  },
  "language_info": {
   "codemirror_mode": {
    "name": "ipython",
    "version": 3
   },
   "file_extension": ".py",
   "mimetype": "text/x-python",
   "name": "python",
   "nbconvert_exporter": "python",
   "pygments_lexer": "ipython3",
   "version": "3.12.9"
  }
 },
 "nbformat": 4,
 "nbformat_minor": 5
}
